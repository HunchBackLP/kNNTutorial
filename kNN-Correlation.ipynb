{
 "cells": [
  {
   "cell_type": "markdown",
   "metadata": {},
   "source": [
    "## *k*-NN in scikit-learn using correlation\n",
    "A simple notebook to show the merits of using 'correlation' as the metric with *k*-NN."
   ]
  },
  {
   "cell_type": "code",
   "execution_count": null,
   "metadata": {},
   "outputs": [],
   "source": [
    "import pandas as pd\n",
    "import numpy as np\n",
    "\n",
    "from sklearn.neighbors import NearestNeighbors"
   ]
  },
  {
   "cell_type": "code",
   "execution_count": null,
   "metadata": {},
   "outputs": [],
   "source": [
    "cols = ['Ex','X0','X1','X2','X3','X4','X5','X6','X7','X8','X9']\n",
    "cd = [['A',3,4,5,5,4,3,2,3,4,3],\n",
    "      ['B',9,9,8,8,9,10,10,9,8,9],\n",
    "      ['Q',8,8,9,9,8,7,7,8,9,8]]\n",
    "corr = pd.DataFrame(cd, columns = cols)\n",
    "corr = corr.set_index('Ex')\n",
    "corr"
   ]
  },
  {
   "cell_type": "code",
   "execution_count": null,
   "metadata": {},
   "outputs": [],
   "source": [
    "%matplotlib inline\n",
    "pl = corr.T.plot(linewidth=2,legend = False)\n",
    "pl.set_xlabel('Feature',fontsize = 12)\n",
    "pl.set_ylabel('Value',fontsize = 12)\n",
    "pl.text(0.5,3, 'A', fontsize=12)\n",
    "pl.text(0.5,7.5, 'Q', fontsize=12)\n",
    "pl.text(0.5,9.2, 'B', fontsize=12)"
   ]
  },
  {
   "cell_type": "code",
   "execution_count": null,
   "metadata": {},
   "outputs": [],
   "source": [
    "X = corr.values\n",
    "X"
   ]
  },
  {
   "cell_type": "code",
   "execution_count": null,
   "metadata": {},
   "outputs": [],
   "source": [
    "q = X[2]\n",
    "X = X[:2]\n",
    "X"
   ]
  },
  {
   "cell_type": "markdown",
   "metadata": {},
   "source": [
    "Set up two Nearest Neighbour objects, one for Euclidean and one for correlation.  \n",
    "*These are not classifiers.*"
   ]
  },
  {
   "cell_type": "code",
   "execution_count": null,
   "metadata": {},
   "outputs": [],
   "source": [
    "NN = NearestNeighbors(metric='euclidean')\n",
    "eNN = NN.fit(X) \n",
    "NN = NearestNeighbors(metric='correlation')\n",
    "corrNN = NN.fit(X) "
   ]
  },
  {
   "cell_type": "code",
   "execution_count": null,
   "metadata": {},
   "outputs": [],
   "source": [
    "e_nn = eNN.kneighbors([q], 1)\n",
    "print('Nearest Neighbour by Euclidean dist. is', corr.index[e_nn[1][0][0]])\n",
    "c_nn = corrNN.kneighbors([q], 1)\n",
    "print('Nearest Neighbour by correlation is', corr.index[c_nn[1][0][0]])"
   ]
  },
  {
   "cell_type": "markdown",
   "metadata": {},
   "source": [
    "### How is correlation used?\n",
    "`1 - correlation(q,x)` is used as the distance measure"
   ]
  },
  {
   "cell_type": "code",
   "execution_count": null,
   "metadata": {},
   "outputs": [],
   "source": [
    "# The Euclidean distances:\n",
    "dist, nns = eNN.kneighbors([q], 2)\n",
    "print('Neighbours:', nns)\n",
    "print('Distainces:', dist)\n"
   ]
  },
  {
   "cell_type": "code",
   "execution_count": null,
   "metadata": {},
   "outputs": [],
   "source": [
    "# The correlation distances:\n",
    "dist, nns = corrNN.kneighbors([q], 2)\n",
    "print('Neighbours:', nns)\n",
    "print('Distainces:', dist)"
   ]
  },
  {
   "cell_type": "markdown",
   "metadata": {},
   "source": [
    "numpy has function for calculating correlation"
   ]
  },
  {
   "cell_type": "code",
   "execution_count": null,
   "metadata": {},
   "outputs": [],
   "source": [
    "rq0 = np.corrcoef(q, X[0])\n",
    "print(rq0)"
   ]
  },
  {
   "cell_type": "code",
   "execution_count": null,
   "metadata": {},
   "outputs": [],
   "source": [
    "rq1 = np.corrcoef(q, X[1])\n",
    "print(rq1)"
   ]
  },
  {
   "cell_type": "markdown",
   "metadata": {},
   "source": [
    "The distance used in `NearestNeighbors` for correlation is `1 - correlation(q,x)`"
   ]
  },
  {
   "cell_type": "code",
   "execution_count": null,
   "metadata": {},
   "outputs": [],
   "source": [
    "1-rq0[0,1]"
   ]
  },
  {
   "cell_type": "code",
   "execution_count": null,
   "metadata": {},
   "outputs": [],
   "source": [
    "1-rq1[0,1]"
   ]
  }
 ],
 "metadata": {
  "kernelspec": {
   "display_name": "Python 3",
   "language": "python",
   "name": "python3"
  },
  "language_info": {
   "codemirror_mode": {
    "name": "ipython",
    "version": 3
   },
   "file_extension": ".py",
   "mimetype": "text/x-python",
   "name": "python",
   "nbconvert_exporter": "python",
   "pygments_lexer": "ipython3",
   "version": "3.7.4"
  }
 },
 "nbformat": 4,
 "nbformat_minor": 2
}

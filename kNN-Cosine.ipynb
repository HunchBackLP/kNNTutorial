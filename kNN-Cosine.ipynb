{
 "cells": [
  {
   "cell_type": "markdown",
   "metadata": {},
   "source": [
    "## *k*-NN in scikit-learn using Cosine\n",
    "A simple notebook to show the merits of using 'cosine' as the metric with *k*-NN."
   ]
  },
  {
   "cell_type": "code",
   "execution_count": null,
   "metadata": {},
   "outputs": [],
   "source": [
    "import pandas as pd\n",
    "import numpy as np\n",
    "\n",
    "from sklearn.neighbors import KNeighborsClassifier\n",
    "from sklearn.neighbors import NearestNeighbors\n",
    "from sklearn.model_selection import train_test_split\n",
    "from sklearn.metrics import accuracy_score\n",
    "from sklearn.model_selection import cross_val_score\n",
    "import matplotlib.lines as mlines"
   ]
  },
  {
   "cell_type": "markdown",
   "metadata": {},
   "source": [
    "Three data points, Q is the query. "
   ]
  },
  {
   "cell_type": "code",
   "execution_count": null,
   "metadata": {},
   "outputs": [],
   "source": [
    "cosi = pd.DataFrame(\n",
    "    [['C',1.0,2.0],\n",
    "     ['D',4.5,2.5],\n",
    "     ['Q',2.0,1.5]],\n",
    "    columns=['Ex','X1','X2'])\n",
    "\n",
    "cosi = cosi.set_index('Ex')\n",
    "cosi"
   ]
  },
  {
   "cell_type": "markdown",
   "metadata": {},
   "source": [
    "Create a new dataframe with normalised data.  \n",
    "The data is normalised so that the rows (data vectors) have unit length. "
   ]
  },
  {
   "cell_type": "code",
   "execution_count": null,
   "metadata": {},
   "outputs": [],
   "source": [
    "from sklearn.preprocessing import Normalizer\n",
    "cosi_n = cosi.copy()\n",
    "cosi_n.iloc[:,:] = Normalizer(norm='l2').fit_transform(cosi)\n",
    "cosi_n"
   ]
  },
  {
   "cell_type": "markdown",
   "metadata": {},
   "source": [
    "Plot the normalised data and draw in the original vectors. "
   ]
  },
  {
   "cell_type": "code",
   "execution_count": null,
   "metadata": {},
   "outputs": [],
   "source": [
    "%matplotlib inline\n",
    "pl = cosi_n.plot.scatter('X1','X2',figsize=(5,3))\n",
    "pl.set_xlim(0,5)\n",
    "pl.set_ylim(0,3)\n",
    "c1, c2 = [0,1], [0,2]\n",
    "d1, d2 = [0,4.5], [0,2.5]\n",
    "q1, q2 = [0,2], [0,1.5]\n",
    "pl.plot(c1,c2,d1,d2,q1,q2, marker = 'o', markersize = 10,linewidth = 2)\n",
    "pl.text(1.2,2, 'C', fontsize=12)\n",
    "pl.text(4.7,2.3, 'D', fontsize=12)\n",
    "pl.text(2.2,1.5, 'Q', fontsize=12)"
   ]
  },
  {
   "cell_type": "code",
   "execution_count": null,
   "metadata": {},
   "outputs": [],
   "source": [
    "X = cosi.values\n",
    "q = X[2]\n",
    "X = X[:2]"
   ]
  },
  {
   "cell_type": "code",
   "execution_count": null,
   "metadata": {},
   "outputs": [],
   "source": [
    "NN = NearestNeighbors(metric='euclidean')\n",
    "eNN = NN.fit(X) \n",
    "NN = NearestNeighbors(metric='cosine')\n",
    "cosNN = NN.fit(X) "
   ]
  },
  {
   "cell_type": "markdown",
   "metadata": {},
   "source": [
    "Nearest neighbour for `q` using Euclidean distance is `C` (index 0). "
   ]
  },
  {
   "cell_type": "code",
   "execution_count": null,
   "metadata": {},
   "outputs": [],
   "source": [
    "dist, nns = eNN.kneighbors([q], 2)\n",
    "print('Neighbours:', nns)\n",
    "print('Distainces:', dist)"
   ]
  },
  {
   "cell_type": "markdown",
   "metadata": {},
   "source": [
    "Nearest neighbour for `q` using Cosine distance is `D` (index 1). "
   ]
  },
  {
   "cell_type": "code",
   "execution_count": null,
   "metadata": {},
   "outputs": [],
   "source": [
    "dist, nns = cosNN.kneighbors([q], 2)\n",
    "print('Neighbours:', nns)\n",
    "print('Distainces:', dist)"
   ]
  },
  {
   "cell_type": "markdown",
   "metadata": {},
   "source": [
    "We can use the `cosine_similarity` metric from `scikit-learn` to check these distances.  \n",
    "The Cosine Distance is `1 - cosine_similarity`."
   ]
  },
  {
   "cell_type": "code",
   "execution_count": null,
   "metadata": {},
   "outputs": [],
   "source": [
    "from sklearn.metrics.pairwise import cosine_similarity\n",
    "c0 = cosine_similarity([q], [X[0]])\n",
    "c1 = cosine_similarity([q], [X[1]])\n",
    "print('Cosine Similarity',c1,c0)\n",
    "print('1 - Cosine Similarity',1-c1,1-c0)"
   ]
  },
  {
   "cell_type": "markdown",
   "metadata": {},
   "source": [
    "## Cosine Distaince and Text Classification\n",
    "CNAE-9 is a dataset from the UCI ML Repository.  \n",
    "https://archive.ics.uci.edu/ml/index.php  \n",
    "Compare Cosine Distance with Euclidean Distance using 10-fold cross validation.  \n",
    "*Spoiler alert:* Cosine Distance wins. "
   ]
  },
  {
   "cell_type": "code",
   "execution_count": null,
   "metadata": {},
   "outputs": [],
   "source": [
    "cosi = pd.read_csv('CNAE-9.csv', header = None)\n",
    "y = cosi.pop(0).values\n",
    "X = cosi.values\n",
    "X.shape, y.shape"
   ]
  },
  {
   "cell_type": "markdown",
   "metadata": {},
   "source": [
    "Set up two *k*-NN classifiers, one using Euclidean distance and one using Cosine.  "
   ]
  },
  {
   "cell_type": "code",
   "execution_count": null,
   "metadata": {},
   "outputs": [],
   "source": [
    "NN_e = KNeighborsClassifier(metric = 'euclidean')\n",
    "NN_c = KNeighborsClassifier(metric = 'cosine')"
   ]
  },
  {
   "cell_type": "code",
   "execution_count": null,
   "metadata": {},
   "outputs": [],
   "source": [
    "scores = cross_val_score(NN_e, X, y, cv=10)\n",
    "print(\"4x CV Accuracy (Euclidean Distance): {0:.2f}\".format(scores.mean())) \n",
    "scores = cross_val_score(NN_c, X, y, cv=10)\n",
    "print(\"4x CV Accuracy (Cosine): {0:.2f}\".format(scores.mean())) "
   ]
  }
 ],
 "metadata": {
  "kernelspec": {
   "display_name": "Python 3",
   "language": "python",
   "name": "python3"
  },
  "language_info": {
   "codemirror_mode": {
    "name": "ipython",
    "version": 3
   },
   "file_extension": ".py",
   "mimetype": "text/x-python",
   "name": "python",
   "nbconvert_exporter": "python",
   "pygments_lexer": "ipython3",
   "version": "3.7.1"
  }
 },
 "nbformat": 4,
 "nbformat_minor": 2
}

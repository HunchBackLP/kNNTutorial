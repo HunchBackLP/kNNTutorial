{
 "cells": [
  {
   "cell_type": "markdown",
   "metadata": {},
   "source": [
    "# *k*-NN DTW\n",
    "Nearest Neighbour on time-series data using Dynamic Time Warping (DTW).  \n",
    "Using the `tslearn` library.  \n",
    "https://tslearn.readthedocs.io/  \n",
    "1. How DTW works.\n",
    "2. Using DTW to identify nearest neighbours.\n",
    "3. *k*-NN time-series classification using DTW. "
   ]
  },
  {
   "cell_type": "markdown",
   "metadata": {},
   "source": [
    "### How DTW works\n",
    "Calculating the DTW mapping for two time-series. "
   ]
  },
  {
   "cell_type": "code",
   "execution_count": null,
   "metadata": {},
   "outputs": [],
   "source": [
    "import numpy\n",
    "from scipy.spatial.distance import cdist\n",
    "import matplotlib.pyplot as plt\n",
    "\n",
    "from tslearn.preprocessing import TimeSeriesScalerMeanVariance\n",
    "from tslearn import metrics"
   ]
  },
  {
   "cell_type": "code",
   "execution_count": null,
   "metadata": {},
   "outputs": [],
   "source": [
    "x = numpy.array([[7,8,10,10,9,8,7,4,2,1,2,4,7,12,13,9,7],\n",
    "                [7,7,8,9,10,10,8,7,4,3,6,12,12,9,7,7,8]])\n",
    "dataset = x.reshape(2,17,1)"
   ]
  },
  {
   "cell_type": "code",
   "execution_count": null,
   "metadata": {
    "scrolled": true
   },
   "outputs": [],
   "source": [
    "import matplotlib.pyplot as plt\n",
    "\n",
    "ax = plt.axes()        \n",
    "ax.xaxis.grid(which = 'both')\n",
    "ax.set_ylabel('Amplitude')\n",
    "ax.set_xlabel('Time')\n",
    "#plt.grid(b = True, which='both')\n",
    "plt.plot(x[0], linewidth = 3, color = 'r')\n",
    "plt.plot(x[1], linewidth = 3, color = 'b')\n",
    "plt.minorticks_on()\n",
    "\n",
    "plt.show()"
   ]
  },
  {
   "cell_type": "code",
   "execution_count": null,
   "metadata": {
    "scrolled": true
   },
   "outputs": [],
   "source": [
    "scaler = TimeSeriesScalerMeanVariance()  # Rescale time series\n",
    "dataset_scaled = scaler.fit_transform(dataset)"
   ]
  },
  {
   "cell_type": "markdown",
   "metadata": {},
   "source": [
    "Plotting the DTW mapping.   "
   ]
  },
  {
   "cell_type": "code",
   "execution_count": null,
   "metadata": {},
   "outputs": [],
   "source": [
    "# Based on code by Romain Tavenard\n",
    "# License: BSD 3 clause\n",
    "\n",
    "# the length of the time-series\n",
    "sz = dataset_scaled.shape[1]\n",
    "\n",
    "path, sim = metrics.dtw_path(dataset_scaled[0], dataset_scaled[1])\n",
    "\n",
    "plt.figure(1, figsize=(8, 8))\n",
    "\n",
    "# definitions for the axes\n",
    "left, bottom = 0.01, 0.1\n",
    "w_ts = h_ts = 0.2\n",
    "left_h = left + w_ts + 0.02\n",
    "width = height = 0.65\n",
    "bottom_h = bottom + height + 0.02\n",
    "\n",
    "rect_s_y = [left, bottom, w_ts, height]\n",
    "rect_gram = [left_h, bottom, width, height]\n",
    "rect_s_x = [left_h, bottom_h, width, h_ts]\n",
    "\n",
    "ax_gram = plt.axes(rect_gram)\n",
    "ax_s_x = plt.axes(rect_s_x)\n",
    "ax_s_y = plt.axes(rect_s_y)\n",
    "\n",
    "mat = cdist(dataset_scaled[0], dataset_scaled[1])\n",
    "\n",
    "ax_gram.imshow(mat)\n",
    "ax_gram.axis(\"off\")\n",
    "ax_gram.autoscale(False)\n",
    "ax_gram.plot([j for (i, j) in path], [i for (i, j) in path], \"w-\", linewidth=3.)\n",
    "\n",
    "ax_s_x.plot(numpy.arange(sz), dataset_scaled[1], \"b-\", linewidth=3.)\n",
    "ax_s_x.axis(\"off\")\n",
    "ax_s_x.set_xlim((0, sz - 1))\n",
    "\n",
    "ax_s_y.plot(- dataset_scaled[0], numpy.arange(sz)[::-1], \"r-\", linewidth=3.)\n",
    "ax_s_y.axis(\"off\")\n",
    "ax_s_y.set_ylim((0, sz - 1))\n",
    "\n",
    "plt.show()"
   ]
  },
  {
   "cell_type": "markdown",
   "metadata": {},
   "source": [
    "The similarity and the mapping path for the two time-series."
   ]
  },
  {
   "cell_type": "code",
   "execution_count": null,
   "metadata": {},
   "outputs": [],
   "source": [
    "print(sim)\n",
    "print(path)"
   ]
  },
  {
   "cell_type": "markdown",
   "metadata": {},
   "source": [
    "## Find Nearest Neighbours using DTW\n",
    "We use `KNeighborsTimeSeries` to find the nearest neighbours using DTW.  \n",
    "We plot the query and the nearest and farthest neighbours. "
   ]
  },
  {
   "cell_type": "code",
   "execution_count": null,
   "metadata": {},
   "outputs": [],
   "source": [
    "from tslearn.neighbors import KNeighborsTimeSeries\n",
    "from tslearn.datasets import UCR_UEA_datasets\n",
    "uea_ucr = UCR_UEA_datasets()"
   ]
  },
  {
   "cell_type": "code",
   "execution_count": null,
   "metadata": {},
   "outputs": [],
   "source": [
    "X_train, y_train, X_test, y_test = uea_ucr.load_dataset('TwoLeadECG')\n",
    "X_train.shape,X_test.shape"
   ]
  },
  {
   "cell_type": "markdown",
   "metadata": {},
   "source": [
    "`n_neighbors` is set to the size of the training set so  \n",
    "`knn` will return all the training data sorted by similarity to the query. "
   ]
  },
  {
   "cell_type": "code",
   "execution_count": null,
   "metadata": {
    "scrolled": true
   },
   "outputs": [],
   "source": [
    "knn = KNeighborsTimeSeries(n_neighbors=len(X_train))\n",
    "knn.fit(X_train)"
   ]
  },
  {
   "cell_type": "code",
   "execution_count": null,
   "metadata": {},
   "outputs": [],
   "source": [
    " q = X_test[1].reshape(1,82,1)"
   ]
  },
  {
   "cell_type": "code",
   "execution_count": null,
   "metadata": {},
   "outputs": [],
   "source": [
    "ret = knn.kneighbors(q)\n",
    "nn = ret[1][0][0]    # The nearest neighbour\n",
    "fn = ret[1][0][-1]   # The farthest neighbor\n",
    "nn,fn"
   ]
  },
  {
   "cell_type": "code",
   "execution_count": null,
   "metadata": {
    "scrolled": true
   },
   "outputs": [],
   "source": [
    "plt.plot(q[0], linewidth = 2, color = 'r')\n",
    "plt.plot(X_train[nn],linewidth = 2, color = 'b')\n",
    "plt.title('The Nearest Neighbour')"
   ]
  },
  {
   "cell_type": "code",
   "execution_count": null,
   "metadata": {
    "scrolled": true
   },
   "outputs": [],
   "source": [
    "plt.plot(q[0], linewidth = 2, color = 'r')\n",
    "plt.plot(X_train[fn],linewidth = 2, color = 'g')\n",
    "plt.title('The Farthest Neighbour')"
   ]
  },
  {
   "cell_type": "markdown",
   "metadata": {},
   "source": [
    "## Time Series Classification using DTW\n",
    "Compare the performance of DTW with Euclidean distance. "
   ]
  },
  {
   "cell_type": "code",
   "execution_count": null,
   "metadata": {},
   "outputs": [],
   "source": [
    "from tslearn.neighbors import KNeighborsTimeSeriesClassifier\n",
    "from sklearn.metrics import accuracy_score"
   ]
  },
  {
   "cell_type": "code",
   "execution_count": null,
   "metadata": {},
   "outputs": [],
   "source": [
    "tsc_euc = KNeighborsTimeSeriesClassifier(n_neighbors=2, metric=\"euclidean\")\n",
    "tsc_dtw = KNeighborsTimeSeriesClassifier(n_neighbors=2, metric=\"dtw\", n_jobs = -1)"
   ]
  },
  {
   "cell_type": "code",
   "execution_count": null,
   "metadata": {},
   "outputs": [],
   "source": [
    "tsc_euc.fit(X_train, y_train)\n",
    "tsc_dtw.fit(X_train, y_train)"
   ]
  },
  {
   "cell_type": "code",
   "execution_count": null,
   "metadata": {},
   "outputs": [],
   "source": [
    "y_euc = tsc_euc.predict(X_test)\n",
    "y_dtw = tsc_dtw.predict(X_test)"
   ]
  },
  {
   "cell_type": "code",
   "execution_count": null,
   "metadata": {},
   "outputs": [],
   "source": [
    "print(\"Accuracy using Euclidean Distance: {0:.2f}\".format(accuracy_score(y_euc,y_test))) \n",
    "print(\"Accuracy using DTW: {0:.2f}\".format(accuracy_score(y_dtw,y_test))) "
   ]
  }
 ],
 "metadata": {
  "kernelspec": {
   "display_name": "Python 3",
   "language": "python",
   "name": "python3"
  },
  "language_info": {
   "codemirror_mode": {
    "name": "ipython",
    "version": 3
   },
   "file_extension": ".py",
   "mimetype": "text/x-python",
   "name": "python",
   "nbconvert_exporter": "python",
   "pygments_lexer": "ipython3",
   "version": "3.7.1"
  }
 },
 "nbformat": 4,
 "nbformat_minor": 2
}

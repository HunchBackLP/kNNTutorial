{
 "cells": [
  {
   "cell_type": "markdown",
   "metadata": {},
   "source": [
    "# *k*-NN Editing  \n",
    "An evaluation of the impact of two basic instance selection (case-base editing) algorithms.\n",
    "- **Condensed Nearest Neighbour**  \n",
    "Hart P. The condensed nearest neighbor rule (Corresp.). IEEE transactions on information theory. 1968 May;14(3):515-6.  \n",
    "http://citeseerx.ist.psu.edu/viewdoc/download?doi=10.1.1.294.6968&rep=rep1&type=pdf\n",
    "- **Conservative Redundancy Removal**    \n",
    "Delany, S. J., & Cunningham, P. (2004, August). An analysis of case-base editing in a spam filtering system. In European Conference on Case-Based Reasoning (pp. 128-141). Springer, Berlin, Heidelberg.\n",
    "https://arrow.tudublin.ie/cgi/viewcontent.cgi?article=1034&context=scschcomcon\n",
    "\n",
    "\n",
    "Basic implementations of both algorithms are available in `kNNEdit.py`.   \n",
    "These implementations only work for binary classification tasks. "
   ]
  },
  {
   "cell_type": "code",
   "execution_count": null,
   "metadata": {},
   "outputs": [],
   "source": [
    "import pandas as pd\n",
    "import numpy as np\n",
    "from sklearn import preprocessing\n",
    "from sklearn.neighbors import NearestNeighbors\n",
    "from sklearn.neighbors import KNeighborsClassifier\n",
    "from sklearn.model_selection import train_test_split\n",
    "from sklearn.metrics import accuracy_score, confusion_matrix\n",
    "import kNNDataLoader\n",
    "from kNNEdit import kNNCRR, kNNCNN\n",
    "from collections import Counter"
   ]
  },
  {
   "cell_type": "markdown",
   "metadata": {},
   "source": [
    "## Demonstration on 2D data  \n",
    "AthleteSelection dataset"
   ]
  },
  {
   "cell_type": "code",
   "execution_count": null,
   "metadata": {},
   "outputs": [],
   "source": [
    "athlete = pd.read_csv('AthleteSelection.csv',index_col = 'Athlete')\n",
    "athlete = athlete.sample(frac=1) # Shuffle the data\n",
    "#athlete"
   ]
  },
  {
   "cell_type": "code",
   "execution_count": null,
   "metadata": {},
   "outputs": [],
   "source": [
    "y = athlete.pop('Selected').values\n",
    "X = athlete.values\n",
    "names = athlete.index\n",
    "q = [5.0,7.5]\n",
    "X.shape"
   ]
  },
  {
   "cell_type": "code",
   "execution_count": null,
   "metadata": {},
   "outputs": [],
   "source": [
    "scaler = preprocessing.StandardScaler().fit(X)\n",
    "X_scaled = scaler.transform(X)\n",
    "q_scaled = scaler.transform([q])\n",
    "X_scaled.shape"
   ]
  },
  {
   "cell_type": "markdown",
   "metadata": {},
   "source": [
    "### Conservative Redundancy Removal (CRR)\n",
    "Using `kNNCRR` class from `kNNEdit.py`"
   ]
  },
  {
   "cell_type": "code",
   "execution_count": null,
   "metadata": {},
   "outputs": [],
   "source": [
    "crr = kNNCRR()\n",
    "X_crr, y_crr = crr.fit(X_scaled,y)\n",
    "X.shape, X_crr.shape"
   ]
  },
  {
   "cell_type": "code",
   "execution_count": null,
   "metadata": {},
   "outputs": [],
   "source": [
    "import matplotlib.pyplot as plt\n",
    "import matplotlib.patches as mpatches\n",
    "color= ['red' if l == 'No' else 'green' for l in y]\n",
    "x1 = X_scaled[:,0]\n",
    "x2 = X_scaled[:,1]\n",
    "xe1 = X_crr[:,0]\n",
    "xe2 = X_crr[:,1]\n",
    "plt.figure(figsize=(7,6))\n",
    "plt.scatter(xe1,xe2, color='yellow', s = 100)\n",
    "plt.scatter(x1,x2, color=color)\n",
    "plt.scatter(q_scaled[0,0],q_scaled[0,1],color='black')\n",
    "plt.annotate('q',(q_scaled[0,0]+0.05,q_scaled[0,1]))\n",
    "plt.title(\"Athlete Selection (Normalized)\")\n",
    "plt.xlabel(\"Speed N(0,1)\")\n",
    "plt.ylabel(\"Agility N(0,1)\")\n",
    "plt.grid()\n",
    "red_patch = mpatches.Patch(color='red', label='Not Selected')\n",
    "blue_patch = mpatches.Patch(color='green', label='Selected')\n",
    "plt.legend(handles=[red_patch, blue_patch],loc=4)\n",
    "for i, txt in enumerate(names):\n",
    "    plt.annotate(txt, (x1[i]+0.05, x2[i]))"
   ]
  },
  {
   "cell_type": "markdown",
   "metadata": {},
   "source": [
    "Examples picked by Conservative Redundancy Removal marked in yellow. "
   ]
  },
  {
   "cell_type": "markdown",
   "metadata": {},
   "source": [
    "### Condensed Nearest Neighbour (CNN)\n",
    "Using `kNNCNN` class from `kNNEdit.py`"
   ]
  },
  {
   "cell_type": "code",
   "execution_count": null,
   "metadata": {},
   "outputs": [],
   "source": [
    "cnn = kNNCNN()\n",
    "X_cnn, y_cnn = cnn.fit(X_scaled,y)\n",
    "X.shape, X_cnn.shape"
   ]
  },
  {
   "cell_type": "code",
   "execution_count": null,
   "metadata": {
    "scrolled": true
   },
   "outputs": [],
   "source": [
    "import matplotlib.pyplot as plt\n",
    "import matplotlib.patches as mpatches\n",
    "color= ['red' if l == 'No' else 'green' for l in y]\n",
    "x1 = X_scaled[:,0]\n",
    "x2 = X_scaled[:,1]\n",
    "xe1 = X_crr[:,0]\n",
    "xe2 = X_crr[:,1]\n",
    "plt.figure(figsize=(7,6))\n",
    "plt.scatter(xe1,xe2, color='yellow', s = 100)\n",
    "plt.scatter(x1,x2, color=color)\n",
    "plt.scatter(q_scaled[0,0],q_scaled[0,1],color='black')\n",
    "plt.annotate('q',(q_scaled[0,0]+0.05,q_scaled[0,1]))\n",
    "plt.title(\"Athlete Selection (Normalized)\")\n",
    "plt.xlabel(\"Speed N(0,1)\")\n",
    "plt.ylabel(\"Agility N(0,1)\")\n",
    "plt.grid()\n",
    "red_patch = mpatches.Patch(color='red', label='Not Selected')\n",
    "blue_patch = mpatches.Patch(color='green', label='Selected')\n",
    "plt.legend(handles=[red_patch, blue_patch],loc=4)\n",
    "for i, txt in enumerate(names):\n",
    "    plt.annotate(txt, (x1[i]+0.05, x2[i]))"
   ]
  },
  {
   "cell_type": "markdown",
   "metadata": {},
   "source": [
    "Examples picked by Condensed Nearest Neighbour shown in yellow. "
   ]
  },
  {
   "cell_type": "markdown",
   "metadata": {},
   "source": [
    "## Evaluation on three datasets"
   ]
  },
  {
   "cell_type": "code",
   "execution_count": null,
   "metadata": {},
   "outputs": [],
   "source": [
    "kNN = KNeighborsClassifier()\n",
    "crr = kNNCRR()\n",
    "Name_arr, X_dir, y_dir = kNNDataLoader.data_loader()\n",
    "Name_arr"
   ]
  },
  {
   "cell_type": "code",
   "execution_count": null,
   "metadata": {},
   "outputs": [],
   "source": [
    "from sklearn.datasets import load_breast_cancer\n",
    "bc = load_breast_cancer()\n",
    "Name_arr = ['Breast','HTRU','Credit'] # Binary classification tasks only.\n",
    "y_dir['Breast']=bc.target\n",
    "X_dir['Breast']=bc.data"
   ]
  },
  {
   "cell_type": "code",
   "execution_count": null,
   "metadata": {},
   "outputs": [],
   "source": [
    "Edit_sizes = {}\n",
    "Edit_accs = {}\n",
    "for ds in Name_arr:\n",
    "    sizes = {}\n",
    "    accs = {}\n",
    "    X_train, X_test, y_train, y_test = train_test_split(X_dir[ds],y_dir[ds], test_size = 1/2)\n",
    "    print(X_train.shape,X_test.shape)\n",
    "    scaler = preprocessing.StandardScaler().fit(X_train)\n",
    "    X_train = scaler.transform(X_train)\n",
    "    X_test = scaler.transform(X_test)\n",
    "    \n",
    "    # Full training data\n",
    "    kNN = KNeighborsClassifier()\n",
    "    kNN = kNN.fit(X_train,y_train)\n",
    "    y_pred = kNN.predict(X_test)\n",
    "    acc = accuracy_score(y_test,y_pred)\n",
    "    print(ds,'Acc',acc)\n",
    "    sizes['Full']= y_train.shape[0]\n",
    "    accs['Full']= acc\n",
    "    \n",
    "    # CNN\n",
    "    cnn = kNNCNN()\n",
    "    X_cnn, y_cnn = cnn.fit(X_train,y_train)\n",
    "    kNNcnn = kNN.fit(X_cnn,y_cnn)\n",
    "    y_pred = kNNcnn.predict(X_test)\n",
    "    print(y_test[:10],y_pred[:10])\n",
    "    acc = accuracy_score(y_test,y_pred)\n",
    "    print(ds,y_cnn.shape,'CNN Acc',acc)\n",
    "    sizes['CNN']= y_cnn.shape[0]\n",
    "    accs['CNN']= acc\n",
    "\n",
    "    # CRR\n",
    "    crr = kNNCRR()\n",
    "    X_crr, y_crr = crr.fit(X_train,y_train)\n",
    "    kNNcrr = kNN.fit(X_crr,y_crr)\n",
    "    y_pred = kNNcrr.predict(X_test)\n",
    "    print(y_test[:10],y_pred[:10])\n",
    "    acc = accuracy_score(y_test,y_pred)\n",
    "    print(ds,y_crr.shape,'Crr Acc',acc)\n",
    "    sizes['CRR']= y_crr.shape[0]\n",
    "    accs['CRR']= acc\n",
    "\n",
    "    Edit_sizes[ds]=sizes\n",
    "    Edit_accs[ds]=accs"
   ]
  },
  {
   "cell_type": "code",
   "execution_count": null,
   "metadata": {},
   "outputs": [],
   "source": [
    "resA_pd = pd.DataFrame(Edit_accs)\n",
    "resS_pd = pd.DataFrame(Edit_sizes)"
   ]
  },
  {
   "cell_type": "code",
   "execution_count": null,
   "metadata": {},
   "outputs": [],
   "source": [
    "resA = resA_pd.T\n",
    "resA['CNN%']=resA['CNN']/resA['Full']\n",
    "resA['CRR%']=resA['CRR']/resA['Full']\n",
    "resA"
   ]
  },
  {
   "cell_type": "code",
   "execution_count": null,
   "metadata": {},
   "outputs": [],
   "source": [
    "resS = resS_pd.T\n",
    "resS['CNN%']=resS['CNN']/resS['Full']\n",
    "resS['CRR%']=resS['CRR']/resS['Full']\n",
    "resS"
   ]
  },
  {
   "cell_type": "code",
   "execution_count": null,
   "metadata": {},
   "outputs": [],
   "source": [
    "resA_pd"
   ]
  },
  {
   "cell_type": "code",
   "execution_count": null,
   "metadata": {},
   "outputs": [],
   "source": [
    "ds = 'Breast' # Change to 'HTRU' or 'Credit' to produce plots for other datasets.\n",
    "width = .35 # width of a bar\n",
    "\n",
    "ax1=resS_pd[ds].plot(kind='bar', width = width, \n",
    "                                 figsize=(3,4),\n",
    "                                 color = ('royalblue','skyblue'))\n",
    "ax2=resA_pd[ds].plot(secondary_y=True, color = 'r', markersize=12, \n",
    "                             mew =2, marker = 'x', linewidth = 0)\n",
    "\n",
    "plt.xlim([-width, 3-2*width])\n",
    "ax2.set_ylim(0,1)\n",
    "ax1.set_ylabel('Samples',fontsize = 14)\n",
    "#ax1.set_ylim(0,100)\n",
    "\n",
    "ax2.set_ylabel('Accuracy', color = 'r', fontsize = 14)\n",
    "ax2.set_title(ds, fontsize = 14)\n",
    "ax2.set_yticks(np.arange(0, 1.1, 0.1))\n",
    "\n",
    "plt.grid(which='both',linestyle='--')\n",
    "plt.show()"
   ]
  },
  {
   "cell_type": "code",
   "execution_count": null,
   "metadata": {},
   "outputs": [],
   "source": []
  }
 ],
 "metadata": {
  "kernelspec": {
   "display_name": "Python 3",
   "language": "python",
   "name": "python3"
  },
  "language_info": {
   "codemirror_mode": {
    "name": "ipython",
    "version": 3
   },
   "file_extension": ".py",
   "mimetype": "text/x-python",
   "name": "python",
   "nbconvert_exporter": "python",
   "pygments_lexer": "ipython3",
   "version": "3.7.1"
  }
 },
 "nbformat": 4,
 "nbformat_minor": 2
}

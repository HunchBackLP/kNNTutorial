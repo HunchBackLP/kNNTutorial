{
 "cells": [
  {
   "cell_type": "markdown",
   "metadata": {},
   "source": [
    "# *k*-NN Editing  \n",
    "An evaluation of the impact of two basic instance selection (case-base editing) algorithms.\n",
    "- **Condensed Nearest Neighbour**  \n",
    "Hart P. The condensed nearest neighbor rule (Corresp.). IEEE transactions on information theory. 1968 May;14(3):515-6.  \n",
    "http://citeseerx.ist.psu.edu/viewdoc/download?doi=10.1.1.294.6968&rep=rep1&type=pdf\n",
    "- **Conservative Redundancy Removal**    \n",
    "Delany, S. J., & Cunningham, P. (2004, August). An analysis of case-base editing in a spam filtering system. In European Conference on Case-Based Reasoning (pp. 128-141). Springer, Berlin, Heidelberg.\n",
    "https://arrow.tudublin.ie/cgi/viewcontent.cgi?article=1034&context=scschcomcon\n",
    "\n",
    "\n",
    "Basic implementations of both algorithms are available in `kNNEdit.py`.   \n",
    "These implementations only work for binary classification tasks. "
   ]
  },
  {
   "cell_type": "code",
   "execution_count": 1,
   "metadata": {},
   "outputs": [],
   "source": [
    "import pandas as pd\n",
    "import numpy as np\n",
    "from sklearn import preprocessing\n",
    "from sklearn.neighbors import NearestNeighbors\n",
    "from sklearn.neighbors import KNeighborsClassifier\n",
    "from sklearn.model_selection import train_test_split\n",
    "from sklearn.metrics import accuracy_score\n",
    "import kNNDataLoader\n",
    "from kNNEdit import kNNCRR, kNNCNN"
   ]
  },
  {
   "cell_type": "markdown",
   "metadata": {},
   "source": [
    "## Demonstration on 2D data  \n",
    "AthleteSelection dataset"
   ]
  },
  {
   "cell_type": "code",
   "execution_count": 2,
   "metadata": {},
   "outputs": [],
   "source": [
    "athlete = pd.read_csv('AthleteSelection.csv',index_col = 'Athlete')\n",
    "athlete = athlete.sample(frac=1) # Shuffle the data\n",
    "#athlete"
   ]
  },
  {
   "cell_type": "code",
   "execution_count": 3,
   "metadata": {},
   "outputs": [
    {
     "data": {
      "text/plain": [
       "(20, 2)"
      ]
     },
     "execution_count": 3,
     "metadata": {},
     "output_type": "execute_result"
    }
   ],
   "source": [
    "y = athlete.pop('Selected').values\n",
    "X = athlete.values\n",
    "names = athlete.index\n",
    "q = [5.0,7.5]\n",
    "X.shape"
   ]
  },
  {
   "cell_type": "code",
   "execution_count": 4,
   "metadata": {},
   "outputs": [
    {
     "data": {
      "text/plain": [
       "(20, 2)"
      ]
     },
     "execution_count": 4,
     "metadata": {},
     "output_type": "execute_result"
    }
   ],
   "source": [
    "scaler = preprocessing.StandardScaler().fit(X)\n",
    "X_scaled = scaler.transform(X)\n",
    "q_scaled = scaler.transform([q])\n",
    "X_scaled.shape"
   ]
  },
  {
   "cell_type": "markdown",
   "metadata": {},
   "source": [
    "### Conservative Redundancy Removal (CRR)\n",
    "Using `kNNCRR` class from `kNNEdit.py`"
   ]
  },
  {
   "cell_type": "code",
   "execution_count": 5,
   "metadata": {},
   "outputs": [
    {
     "data": {
      "text/plain": [
       "((20, 2), (5, 2))"
      ]
     },
     "execution_count": 5,
     "metadata": {},
     "output_type": "execute_result"
    }
   ],
   "source": [
    "crr = kNNCRR()\n",
    "X_crr, y_crr = crr.fit(X_scaled,y)\n",
    "X.shape, X_crr.shape"
   ]
  },
  {
   "cell_type": "code",
   "execution_count": 6,
   "metadata": {},
   "outputs": [],
   "source": [
    "import matplotlib.pyplot as plt\n",
    "import matplotlib.patches as mpatches\n",
    "color= ['red' if l == 'No' else 'green' for l in y]\n",
    "x1 = X_scaled[:,0]\n",
    "x2 = X_scaled[:,1]\n",
    "xe1 = X_crr[:,0]\n",
    "xe2 = X_crr[:,1]\n",
    "plt.figure(figsize=(7,6))\n",
    "plt.scatter(xe1,xe2, color='yellow', s = 100)\n",
    "plt.scatter(x1,x2, color=color)\n",
    "plt.scatter(q_scaled[0,0],q_scaled[0,1],color='black')\n",
    "plt.annotate('q',(q_scaled[0,0]+0.05,q_scaled[0,1]))\n",
    "plt.title(\"Athlete Selection (Normalized)\")\n",
    "plt.xlabel(\"Speed N(0,1)\")\n",
    "plt.ylabel(\"Agility N(0,1)\")\n",
    "plt.grid()\n",
    "red_patch = mpatches.Patch(color='red', label='Not Selected')\n",
    "blue_patch = mpatches.Patch(color='green', label='Selected')\n",
    "plt.legend(handles=[red_patch, blue_patch],loc=4)\n",
    "for i, txt in enumerate(names):\n",
    "    plt.annotate(txt, (x1[i]+0.05, x2[i]))"
   ]
  },
  {
   "cell_type": "markdown",
   "metadata": {},
   "source": [
    "Examples picked by Conservative Redundancy Removal marked in yellow. "
   ]
  },
  {
   "cell_type": "markdown",
   "metadata": {},
   "source": [
    "### Condensed Nearest Neighbour (CNN)\n",
    "Using `kNNCNN` class from `kNNEdit.py`"
   ]
  },
  {
   "cell_type": "code",
   "execution_count": 7,
   "metadata": {},
   "outputs": [
    {
     "name": "stdout",
     "output_type": "stream",
     "text": [
      "Pass 1 Added 5\n",
      "Pass 2 Added 0\n"
     ]
    },
    {
     "data": {
      "text/plain": [
       "((20, 2), (6, 2))"
      ]
     },
     "execution_count": 7,
     "metadata": {},
     "output_type": "execute_result"
    }
   ],
   "source": [
    "cnn = kNNCNN()\n",
    "X_cnn, y_cnn = cnn.fit(X_scaled,y)\n",
    "X.shape, X_cnn.shape"
   ]
  },
  {
   "cell_type": "code",
   "execution_count": 8,
   "metadata": {
    "scrolled": true
   },
   "outputs": [
    {
     "data": {
      "image/png": "[encoded data removed]",
      "text/plain": [
       "<Figure size 504x432 with 1 Axes>"
      ]
     },
     "metadata": {
      "needs_background": "light"
     },
     "output_type": "display_data"
    }
   ],
   "source": [
    "import matplotlib.pyplot as plt\n",
    "import matplotlib.patches as mpatches\n",
    "color= ['red' if l == 'No' else 'green' for l in y]\n",
    "x1 = X_scaled[:,0]\n",
    "x2 = X_scaled[:,1]\n",
    "xe1 = X_cnn[:,0]\n",
    "xe2 = X_cnn[:,1]\n",
    "plt.figure(figsize=(7,6))\n",
    "plt.scatter(xe1,xe2, color='yellow', s = 100)\n",
    "plt.scatter(x1,x2, color=color)\n",
    "plt.scatter(q_scaled[0,0],q_scaled[0,1],color='black')\n",
    "plt.annotate('q',(q_scaled[0,0]+0.05,q_scaled[0,1]))\n",
    "plt.title(\"Athlete Selection (Normalized)\")\n",
    "plt.xlabel(\"Speed N(0,1)\")\n",
    "plt.ylabel(\"Agility N(0,1)\")\n",
    "plt.grid()\n",
    "red_patch = mpatches.Patch(color='red', label='Not Selected')\n",
    "blue_patch = mpatches.Patch(color='green', label='Selected')\n",
    "plt.legend(handles=[red_patch, blue_patch],loc=4)\n",
    "for i, txt in enumerate(names):\n",
    "    plt.annotate(txt, (x1[i]+0.05, x2[i]))"
   ]
  },
  {
   "cell_type": "markdown",
   "metadata": {},
   "source": [
    "Examples picked by Condensed Nearest Neighbour shown in yellow. "
   ]
  },
  {
   "cell_type": "markdown",
   "metadata": {},
   "source": [
    "## Evaluation on three datasets"
   ]
  },
  {
   "cell_type": "code",
   "execution_count": 9,
   "metadata": {},
   "outputs": [
    {
     "data": {
      "text/plain": [
       "['Credit', 'HTRU', 'Shuttle', 'Letter']"
      ]
     },
     "execution_count": 9,
     "metadata": {},
     "output_type": "execute_result"
    }
   ],
   "source": [
    "kNN = KNeighborsClassifier()\n",
    "crr = kNNCRR()\n",
    "Name_arr, X_dir, y_dir = kNNDataLoader.data_loader()\n",
    "Name_arr"
   ]
  },
  {
   "cell_type": "code",
   "execution_count": 10,
   "metadata": {},
   "outputs": [],
   "source": [
    "from sklearn.datasets import load_breast_cancer\n",
    "bc = load_breast_cancer()\n",
    "Name_arr = ['Breast','HTRU','Credit'] # Binary classification tasks only.\n",
    "#Name_arr = ['Breast','HTRU']\n",
    "\n",
    "y_dir['Breast']=bc.target\n",
    "X_dir['Breast']=bc.data"
   ]
  },
  {
   "cell_type": "markdown",
   "metadata": {},
   "source": [
    "The Credit dataset is large so it takes a long time to run (>10 mins) so consider running on the other tso datasets only."
   ]
  },
  {
   "cell_type": "code",
   "execution_count": 11,
   "metadata": {},
   "outputs": [
    {
     "name": "stdout",
     "output_type": "stream",
     "text": [
      "(284, 30) (285, 30)\n",
      "Breast Acc 0.9438596491228071\n",
      "Pass 1 Added 29\n",
      "Pass 2 Added 16\n",
      "Pass 3 Added 1\n",
      "Pass 4 Added 0\n",
      "[1 1 1 1 1 1 1 1 0 0] [1 1 1 1 1 1 1 1 0 0]\n",
      "Breast (47,) CNN Acc 0.9508771929824561\n",
      "[1 1 1 1 1 1 1 1 0 0] [1 1 1 1 1 1 1 1 0 0]\n",
      "Breast (38,) Crr Acc 0.9192982456140351\n",
      "(8949, 8) (8949, 8)\n",
      "HTRU Acc 0.9778746228628897\n",
      "Pass 1 Added 608\n",
      "Pass 2 Added 210\n",
      "Pass 3 Added 8\n",
      "Pass 4 Added 1\n",
      "Pass 5 Added 0\n",
      "[0 1 0 0 0 0 0 0 0 0] [0 0 0 0 0 0 0 0 0 0]\n",
      "HTRU (828,) CNN Acc 0.9776511342049391\n",
      "[0 1 0 0 0 0 0 0 0 0] [0 0 0 0 0 0 0 0 0 0]\n",
      "HTRU (552,) Crr Acc 0.97429880433568\n",
      "(15000, 23) (15000, 23)\n",
      "Credit Acc 0.7917333333333333\n",
      "Pass 1 Added 5182\n",
      "Pass 2 Added 1708\n",
      "Pass 3 Added 140\n",
      "Pass 4 Added 7\n",
      "Pass 5 Added 5\n",
      "Pass 6 Added 4\n",
      "Pass 7 Added 4\n",
      "Pass 8 Added 6\n",
      "Pass 9 Added 5\n",
      "Pass 10 Added 4\n",
      "Pass 11 Added 5\n",
      "Pass 12 Added 3\n",
      "Pass 13 Added 2\n",
      "Pass 14 Added 6\n",
      "Pass 15 Added 4\n",
      "Pass 16 Added 5\n",
      "Pass 17 Added 5\n",
      "Pass 18 Added 5\n",
      "Pass 19 Added 4\n",
      "Pass 20 Added 5\n",
      "[0 0 0 0 0 1 0 0 0 0] [0 0 0 0 0 1 0 0 0 1]\n",
      "Credit (7110,) CNN Acc 0.7797333333333333\n",
      "[0 0 0 0 0 1 0 0 0 0] [0 0 0 1 0 1 0 0 0 0]\n",
      "Credit (4430,) Crr Acc 0.7668666666666667\n"
     ]
    }
   ],
   "source": [
    "Edit_sizes = {}\n",
    "Edit_accs = {}\n",
    "Max_pass = 3\n",
    "for ds in Name_arr:\n",
    "    sizes = {}\n",
    "    accs = {}\n",
    "    X_train, X_test, y_train, y_test = train_test_split(X_dir[ds],y_dir[ds], test_size = 1/2)\n",
    "    print(X_train.shape,X_test.shape)\n",
    "    scaler = preprocessing.StandardScaler().fit(X_train)\n",
    "    X_train = scaler.transform(X_train)\n",
    "    X_test = scaler.transform(X_test)\n",
    "    \n",
    "    # Full training data\n",
    "    kNN = KNeighborsClassifier()\n",
    "    kNN = kNN.fit(X_train,y_train)\n",
    "    y_pred = kNN.predict(X_test)\n",
    "    acc = accuracy_score(y_test,y_pred)\n",
    "    print(ds,'Acc',acc)\n",
    "    sizes['Full']= y_train.shape[0]\n",
    "    accs['Full']= acc\n",
    "    \n",
    "    # CNN\n",
    "    cnn = kNNCNN()\n",
    "    X_cnn, y_cnn = cnn.fit(X_train,y_train)\n",
    "    kNNcnn = kNN.fit(X_cnn,y_cnn)\n",
    "    y_pred = kNNcnn.predict(X_test)\n",
    "    print(y_test[:10],y_pred[:10])\n",
    "    acc = accuracy_score(y_test,y_pred)\n",
    "    print(ds,y_cnn.shape,'CNN Acc',acc)\n",
    "    sizes['CNN']= y_cnn.shape[0]\n",
    "    accs['CNN']= acc\n",
    "\n",
    "    # CRR\n",
    "    crr = kNNCRR()\n",
    "    X_crr, y_crr = crr.fit(X_train,y_train)\n",
    "    kNNcrr = kNN.fit(X_crr,y_crr)\n",
    "    y_pred = kNNcrr.predict(X_test)\n",
    "    print(y_test[:10],y_pred[:10])\n",
    "    acc = accuracy_score(y_test,y_pred)\n",
    "    print(ds,y_crr.shape,'Crr Acc',acc)\n",
    "    sizes['CRR']= y_crr.shape[0]\n",
    "    accs['CRR']= acc\n",
    "\n",
    "    Edit_sizes[ds]=sizes\n",
    "    Edit_accs[ds]=accs"
   ]
  },
  {
   "cell_type": "code",
   "execution_count": 12,
   "metadata": {},
   "outputs": [],
   "source": [
    "resA_pd = pd.DataFrame(Edit_accs)\n",
    "resS_pd = pd.DataFrame(Edit_sizes)"
   ]
  },
  {
   "cell_type": "code",
   "execution_count": 13,
   "metadata": {},
   "outputs": [
    {
     "data": {
      "text/html": [
       "<div>\n",
       "<style scoped>\n",
       "    .dataframe tbody tr th:only-of-type {\n",
       "        vertical-align: middle;\n",
       "    }\n",
       "\n",
       "    .dataframe tbody tr th {\n",
       "        vertical-align: top;\n",
       "    }\n",
       "\n",
       "    .dataframe thead th {\n",
       "        text-align: right;\n",
       "    }\n",
       "</style>\n",
       "<table border=\"1\" class=\"dataframe\">\n",
       "  <thead>\n",
       "    <tr style=\"text-align: right;\">\n",
       "      <th></th>\n",
       "      <th>Full</th>\n",
       "      <th>CNN</th>\n",
       "      <th>CRR</th>\n",
       "      <th>CNN%</th>\n",
       "      <th>CRR%</th>\n",
       "    </tr>\n",
       "  </thead>\n",
       "  <tbody>\n",
       "    <tr>\n",
       "      <th>Breast</th>\n",
       "      <td>0.943860</td>\n",
       "      <td>0.950877</td>\n",
       "      <td>0.919298</td>\n",
       "      <td>1.007435</td>\n",
       "      <td>0.973978</td>\n",
       "    </tr>\n",
       "    <tr>\n",
       "      <th>HTRU</th>\n",
       "      <td>0.977875</td>\n",
       "      <td>0.977651</td>\n",
       "      <td>0.974299</td>\n",
       "      <td>0.999771</td>\n",
       "      <td>0.996343</td>\n",
       "    </tr>\n",
       "    <tr>\n",
       "      <th>Credit</th>\n",
       "      <td>0.791733</td>\n",
       "      <td>0.779733</td>\n",
       "      <td>0.766867</td>\n",
       "      <td>0.984843</td>\n",
       "      <td>0.968592</td>\n",
       "    </tr>\n",
       "  </tbody>\n",
       "</table>\n",
       "</div>"
      ],
      "text/plain": [
       "            Full       CNN       CRR      CNN%      CRR%\n",
       "Breast  0.943860  0.950877  0.919298  1.007435  0.973978\n",
       "HTRU    0.977875  0.977651  0.974299  0.999771  0.996343\n",
       "Credit  0.791733  0.779733  0.766867  0.984843  0.968592"
      ]
     },
     "execution_count": 13,
     "metadata": {},
     "output_type": "execute_result"
    }
   ],
   "source": [
    "resA = resA_pd.T\n",
    "resA['CNN%']=resA['CNN']/resA['Full']\n",
    "resA['CRR%']=resA['CRR']/resA['Full']\n",
    "resA"
   ]
  },
  {
   "cell_type": "code",
   "execution_count": 14,
   "metadata": {},
   "outputs": [
    {
     "data": {
      "text/html": [
       "<div>\n",
       "<style scoped>\n",
       "    .dataframe tbody tr th:only-of-type {\n",
       "        vertical-align: middle;\n",
       "    }\n",
       "\n",
       "    .dataframe tbody tr th {\n",
       "        vertical-align: top;\n",
       "    }\n",
       "\n",
       "    .dataframe thead th {\n",
       "        text-align: right;\n",
       "    }\n",
       "</style>\n",
       "<table border=\"1\" class=\"dataframe\">\n",
       "  <thead>\n",
       "    <tr style=\"text-align: right;\">\n",
       "      <th></th>\n",
       "      <th>Full</th>\n",
       "      <th>CNN</th>\n",
       "      <th>CRR</th>\n",
       "      <th>CNN%</th>\n",
       "      <th>CRR%</th>\n",
       "    </tr>\n",
       "  </thead>\n",
       "  <tbody>\n",
       "    <tr>\n",
       "      <th>Breast</th>\n",
       "      <td>284</td>\n",
       "      <td>47</td>\n",
       "      <td>38</td>\n",
       "      <td>0.165493</td>\n",
       "      <td>0.133803</td>\n",
       "    </tr>\n",
       "    <tr>\n",
       "      <th>HTRU</th>\n",
       "      <td>8949</td>\n",
       "      <td>828</td>\n",
       "      <td>552</td>\n",
       "      <td>0.092524</td>\n",
       "      <td>0.061683</td>\n",
       "    </tr>\n",
       "    <tr>\n",
       "      <th>Credit</th>\n",
       "      <td>15000</td>\n",
       "      <td>7110</td>\n",
       "      <td>4430</td>\n",
       "      <td>0.474000</td>\n",
       "      <td>0.295333</td>\n",
       "    </tr>\n",
       "  </tbody>\n",
       "</table>\n",
       "</div>"
      ],
      "text/plain": [
       "         Full   CNN   CRR      CNN%      CRR%\n",
       "Breast    284    47    38  0.165493  0.133803\n",
       "HTRU     8949   828   552  0.092524  0.061683\n",
       "Credit  15000  7110  4430  0.474000  0.295333"
      ]
     },
     "execution_count": 14,
     "metadata": {},
     "output_type": "execute_result"
    }
   ],
   "source": [
    "resS = resS_pd.T\n",
    "resS['CNN%']=resS['CNN']/resS['Full']\n",
    "resS['CRR%']=resS['CRR']/resS['Full']\n",
    "resS"
   ]
  },
  {
   "cell_type": "code",
   "execution_count": 15,
   "metadata": {},
   "outputs": [
    {
     "data": {
      "text/html": [
       "<div>\n",
       "<style scoped>\n",
       "    .dataframe tbody tr th:only-of-type {\n",
       "        vertical-align: middle;\n",
       "    }\n",
       "\n",
       "    .dataframe tbody tr th {\n",
       "        vertical-align: top;\n",
       "    }\n",
       "\n",
       "    .dataframe thead th {\n",
       "        text-align: right;\n",
       "    }\n",
       "</style>\n",
       "<table border=\"1\" class=\"dataframe\">\n",
       "  <thead>\n",
       "    <tr style=\"text-align: right;\">\n",
       "      <th></th>\n",
       "      <th>Breast</th>\n",
       "      <th>HTRU</th>\n",
       "      <th>Credit</th>\n",
       "    </tr>\n",
       "  </thead>\n",
       "  <tbody>\n",
       "    <tr>\n",
       "      <th>Full</th>\n",
       "      <td>0.943860</td>\n",
       "      <td>0.977875</td>\n",
       "      <td>0.791733</td>\n",
       "    </tr>\n",
       "    <tr>\n",
       "      <th>CNN</th>\n",
       "      <td>0.950877</td>\n",
       "      <td>0.977651</td>\n",
       "      <td>0.779733</td>\n",
       "    </tr>\n",
       "    <tr>\n",
       "      <th>CRR</th>\n",
       "      <td>0.919298</td>\n",
       "      <td>0.974299</td>\n",
       "      <td>0.766867</td>\n",
       "    </tr>\n",
       "  </tbody>\n",
       "</table>\n",
       "</div>"
      ],
      "text/plain": [
       "        Breast      HTRU    Credit\n",
       "Full  0.943860  0.977875  0.791733\n",
       "CNN   0.950877  0.977651  0.779733\n",
       "CRR   0.919298  0.974299  0.766867"
      ]
     },
     "execution_count": 15,
     "metadata": {},
     "output_type": "execute_result"
    }
   ],
   "source": [
    "resA_pd"
   ]
  },
  {
   "cell_type": "code",
   "execution_count": 16,
   "metadata": {},
   "outputs": [
    {
     "data": {
      "image/png": "[encoded data removed]",
      "text/plain": [
       "<Figure size 216x288 with 2 Axes>"
      ]
     },
     "metadata": {
      "needs_background": "light"
     },
     "output_type": "display_data"
    }
   ],
   "source": [
    "ds = 'Credit' # Change to 'HTRU' or 'Credit' to produce plots for other datasets.\n",
    "width = .35 # width of a bar\n",
    "\n",
    "ax1=resS_pd[ds].plot(kind='bar', width = width, \n",
    "                                 figsize=(3,4),\n",
    "                                 color = ('royalblue','skyblue'))\n",
    "ax2=resA_pd[ds].plot(secondary_y=True, color = 'r', markersize=12, \n",
    "                             mew =2, marker = 'x', linewidth = 0)\n",
    "\n",
    "plt.xlim([-width, 3-2*width])\n",
    "ax2.set_ylim(0,1)\n",
    "ax1.set_ylabel('Samples',fontsize = 14)\n",
    "#ax1.set_ylim(0,100)\n",
    "\n",
    "ax2.set_ylabel('Accuracy', color = 'r', fontsize = 14)\n",
    "ax2.set_title(ds, fontsize = 14)\n",
    "ax2.set_yticks(np.arange(0, 1.1, 0.1))\n",
    "\n",
    "plt.grid(which='both',linestyle='--')\n",
    "plt.show()"
   ]
  },
  {
   "cell_type": "code",
   "execution_count": null,
   "metadata": {},
   "outputs": [],
   "source": []
  }
 ],
 "metadata": {
  "kernelspec": {
   "display_name": "Python 3",
   "language": "python",
   "name": "python3"
  },
  "language_info": {
   "codemirror_mode": {
    "name": "ipython",
    "version": 3
   },
   "file_extension": ".py",
   "mimetype": "text/x-python",
   "name": "python",
   "nbconvert_exporter": "python",
   "pygments_lexer": "ipython3",
   "version": "3.7.1"
  }
 },
 "nbformat": 4,
 "nbformat_minor": 2
}

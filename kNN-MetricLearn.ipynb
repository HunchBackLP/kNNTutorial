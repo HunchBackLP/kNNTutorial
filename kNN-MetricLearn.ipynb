{
 "cells": [
  {
   "cell_type": "markdown",
   "metadata": {},
   "source": [
    "# *k*-NN Metric Learning in `scikit-learn`\n",
    "\n",
    "https://pypi.org/project/metric-learn/\n",
    "\n",
    "Not part of core `scikit-learn`, part of `scikit-learn-contrib`.  \n",
    "This notebook presents an example of the `LMNN` aalgorithm.\n",
    "\n",
    "Performance is compared against *vanilla* *k*-NN on the breast-cancer dataset. \n",
    "\n",
    "Two options are presented:  \n",
    " - A separate metric learning process with the learned metric passed to `KNeighborsClassifier`\n",
    " - The metric learning linked to `KNeighborsClassifier` in a pipeline.\n",
    "\n",
    "The `metric-learn` library will need to be installed using:  \n",
    "`pip install metric-learn`  or  \n",
    "`conda install metric-learn`."
   ]
  },
  {
   "cell_type": "code",
   "execution_count": null,
   "metadata": {
    "scrolled": true
   },
   "outputs": [],
   "source": [
    "import pandas as pd\n",
    "import numpy as np\n",
    "from sklearn.datasets import load_breast_cancer\n",
    "from sklearn.neighbors import KNeighborsClassifier\n",
    "from sklearn.model_selection import train_test_split\n",
    "from metric_learn import LMNN\n",
    "from sklearn import metrics"
   ]
  },
  {
   "cell_type": "markdown",
   "metadata": {},
   "source": [
    "## Load the dataset\n"
   ]
  },
  {
   "cell_type": "code",
   "execution_count": null,
   "metadata": {},
   "outputs": [],
   "source": [
    "breast_data = load_breast_cancer()\n",
    "X = breast_data['data']\n",
    "y = breast_data['target']\n",
    "X_train, X_test, y_train, y_test = train_test_split(X, y, test_size = 1/2, random_state=42)"
   ]
  },
  {
   "cell_type": "markdown",
   "metadata": {},
   "source": [
    "Performance of *vanilla* *k*-NN.  "
   ]
  },
  {
   "cell_type": "code",
   "execution_count": null,
   "metadata": {},
   "outputs": [],
   "source": [
    "kNN = KNeighborsClassifier()\n",
    "kNN.fit(X_train,y_train)\n",
    "y_pred = kNN.predict(X_test)\n",
    "knn_acc = metrics.accuracy_score(y_pred,y_test)\n",
    "print(\"Hold-Out Testing - basic k-NN: {0:4.2f}\".format(knn_acc))"
   ]
  },
  {
   "cell_type": "markdown",
   "metadata": {},
   "source": [
    "Learn the distance metric using the LMNN algorithm. matrix "
   ]
  },
  {
   "cell_type": "code",
   "execution_count": null,
   "metadata": {},
   "outputs": [],
   "source": [
    "lmnn = LMNN(k=5, learn_rate=1e-6)\n",
    "lmnn.fit(X_train, y_train)"
   ]
  },
  {
   "cell_type": "markdown",
   "metadata": {},
   "source": [
    "Run *k*-NN again using the learned metric. "
   ]
  },
  {
   "cell_type": "code",
   "execution_count": null,
   "metadata": {},
   "outputs": [],
   "source": [
    "knnMet = KNeighborsClassifier(metric=lmnn.get_metric())\n",
    "knnMet.fit(X_train, y_train)\n",
    "y_pred = knnMet.predict(X_test)\n",
    "M_knn_acc = metrics.accuracy_score(y_pred,y_test)\n",
    "print(\"Hold-Out Testing - Metric Learning k-NN: {0:4.2f}\".format(M_knn_acc))"
   ]
  },
  {
   "cell_type": "markdown",
   "metadata": {},
   "source": [
    "Run *k*-NN with the learned metric, this time using a pipeline.  \n",
    "This should produce the same result.  "
   ]
  },
  {
   "cell_type": "code",
   "execution_count": null,
   "metadata": {},
   "outputs": [],
   "source": [
    "from sklearn.pipeline import make_pipeline\n",
    "\n",
    "clf = make_pipeline(LMNN(k=5, learn_rate=1e-6), KNeighborsClassifier())\n",
    "clf.fit(X_train,y_train)\n",
    "\n",
    "y_pred = clf.predict(X_test)\n",
    "M_knn_acc = metrics.accuracy_score(y_pred,y_test)\n",
    "print(\"Hold-Out Testing - Metric Learning k-NN: {0:4.2f}\".format(M_knn_acc))"
   ]
  }
 ],
 "metadata": {
  "kernelspec": {
   "display_name": "Python 3",
   "language": "python",
   "name": "python3"
  },
  "language_info": {
   "codemirror_mode": {
    "name": "ipython",
    "version": 3
   },
   "file_extension": ".py",
   "mimetype": "text/x-python",
   "name": "python",
   "nbconvert_exporter": "python",
   "pygments_lexer": "ipython3",
   "version": "3.8.3"
  }
 },
 "nbformat": 4,
 "nbformat_minor": 2
}

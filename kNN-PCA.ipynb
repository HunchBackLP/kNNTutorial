{
 "cells": [
  {
   "cell_type": "markdown",
   "metadata": {},
   "source": [
    "# *k*-NN and PCA\n",
    "The intrinsic dimension of the data is important in *k*-NN.  \n",
    "Here we use Principle Component Analysis (PCA) to get an estimate of the intrinsic dimension of a dataset. "
   ]
  },
  {
   "cell_type": "code",
   "execution_count": null,
   "metadata": {},
   "outputs": [],
   "source": [
    "import numpy as np\n",
    "import kNNDataLoader\n",
    "import matplotlib.pyplot as plt\n",
    "from matplotlib.ticker import MaxNLocator\n",
    "from sklearn.decomposition import PCA"
   ]
  },
  {
   "cell_type": "markdown",
   "metadata": {},
   "source": [
    "Load the datasets. "
   ]
  },
  {
   "cell_type": "code",
   "execution_count": null,
   "metadata": {},
   "outputs": [],
   "source": [
    "Name_arr, X_dir, y_dir = kNNDataLoader.data_loader()\n",
    "Name_arr"
   ]
  },
  {
   "cell_type": "markdown",
   "metadata": {},
   "source": [
    "# PCA\n",
    "Check the variation in the data *explained* by the first 4 PCs. "
   ]
  },
  {
   "cell_type": "code",
   "execution_count": null,
   "metadata": {},
   "outputs": [],
   "source": [
    "npc = 4\n",
    "pca_dir = {}\n",
    "pca = PCA(n_components=npc)\n",
    "for n in Name_arr:\n",
    "    X = X_dir[n]\n",
    "    X_r = pca.fit(X).transform(X)\n",
    "    pca_dir[n]=pca.explained_variance_ratio_\n",
    "    print(\"{0:s}: Variance explained by 4 PCs: {1:.2f}\".format(n,pca.explained_variance_ratio_.sum()))\n",
    "\n"
   ]
  },
  {
   "cell_type": "markdown",
   "metadata": {},
   "source": [
    "Plot the variance explained by PCs for 1 to 4 for the `Shuttle` and `HTRU` datasets. "
   ]
  },
  {
   "cell_type": "code",
   "execution_count": null,
   "metadata": {},
   "outputs": [],
   "source": [
    "w = 0.25\n",
    "\n",
    "x = list(range(1,npc+1))\n",
    "x1 = [i-w/2 for i in x]\n",
    "x2 = [i+w/2 for i in x]\n",
    "fig, ax1 = plt.subplots(figsize=(6,4))\n",
    "h_col = 'blue'\n",
    "s_col = 'r'\n",
    "ax1.set_xlabel('Principal Components')\n",
    "ax1.set_ylabel('Variance')\n",
    "ax1.bar(x1, pca_dir['HTRU'], color=h_col, alpha = 0.5, width = w)\n",
    "ax1.bar(x2, pca_dir['Shuttle'], color=s_col, alpha = 0.5, width = w)\n",
    "\n",
    "ax2 = ax1.twinx()  # instantiate a second axes that shares the same x-axis\n",
    "\n",
    "ax2.set_ylabel('Cumulative Variance')  \n",
    "ax2.plot(x1, np.cumsum(pca_dir['HTRU']), color=h_col, marker = 'x', label = 'HTRU')\n",
    "ax2.plot(x2, np.cumsum(pca_dir['Shuttle']), color=s_col, marker = 'x', label = 'Shuttle')\n",
    "\n",
    "ax1.set_ylim(0,1)\n",
    "\n",
    "ax2.set_ylim(0,1)\n",
    "\n",
    "ax2.legend(loc = 'upper left')\n",
    "\n",
    "\n",
    "ax1.xaxis.set_major_locator(MaxNLocator(integer=True))\n",
    "\n",
    "# plt.show()"
   ]
  },
  {
   "cell_type": "code",
   "execution_count": null,
   "metadata": {},
   "outputs": [],
   "source": []
  }
 ],
 "metadata": {
  "kernelspec": {
   "display_name": "Python 3",
   "language": "python",
   "name": "python3"
  },
  "language_info": {
   "codemirror_mode": {
    "name": "ipython",
    "version": 3
   },
   "file_extension": ".py",
   "mimetype": "text/x-python",
   "name": "python",
   "nbconvert_exporter": "python",
   "pygments_lexer": "ipython3",
   "version": "3.7.6"
  }
 },
 "nbformat": 4,
 "nbformat_minor": 2
}

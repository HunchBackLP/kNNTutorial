{
 "cells": [
  {
   "cell_type": "markdown",
   "metadata": {},
   "source": [
    "# *k*-NN Speedup in `scikit-learn`\n",
    "`scikit-learn` contains two options to speed up neighbour retrieval for *k*-NN, `kd_tree` and `ball_tree`.  \n",
    "There is also the option to use brute force search, i.e. linear search across all training data.  \n",
    "Here we test the performance of these three options on four datasets from the UCI repository.  \n",
    "The three methods return the same nearest neighbours so we only look at retrieval times.  \n",
    "\n",
    "To run this notebook you will need to download the three data files and the `.py` file that loads the data:  \n",
    "- `kNNDataLoader.py`\n",
    "- `CC_default.csv`\n",
    "- `HTRU_2.csv`\n",
    "- `shuttle.csv`\n",
    "- `letter-recognition.csv`  \n",
    "\n",
    "These are all available in the git-hub repository. \n",
    "\n",
    "We test retrieval times under two scenarios, 10-fold cross validation and 2-fold cross validation.  \n",
    "The two speed up alternatives have a preprocessing overhead where the trees are built, this overhead will have a bigger impact in 10-fold cross vaildation testing. "
   ]
  },
  {
   "cell_type": "code",
   "execution_count": 2,
   "metadata": {
    "scrolled": true
   },
   "outputs": [],
   "source": [
    "import pandas as pd\n",
    "import numpy as np\n",
    "from sklearn import preprocessing\n",
    "from sklearn.neighbors import KNeighborsClassifier\n",
    "from sklearn.model_selection import train_test_split\n",
    "from sklearn.model_selection import cross_val_score\n",
    "import time\n",
    "import statistics\n",
    "from sklearn import metrics\n",
    "import kNNDataLoader\n",
    "import matplotlib.pyplot as plt"
   ]
  },
  {
   "cell_type": "code",
   "execution_count": 3,
   "metadata": {},
   "outputs": [
    {
     "data": {
      "text/plain": [
       "['Credit', 'HTRU', 'Shuttle', 'Letter']"
      ]
     },
     "execution_count": 3,
     "metadata": {},
     "output_type": "execute_result"
    }
   ],
   "source": [
    "Name_arr, X_dir, y_dir = kNNDataLoader.data_loader()\n",
    "Name_arr"
   ]
  },
  {
   "cell_type": "markdown",
   "metadata": {},
   "source": [
    "## Analysis\n",
    "Note: the evaluations entail cross-validation testing so those cells take a few minutes to run."
   ]
  },
  {
   "cell_type": "code",
   "execution_count": 4,
   "metadata": {},
   "outputs": [],
   "source": [
    "# Listing the datasets in this order produces nicer graphs. \n",
    "Name_arr = ['HTRU', 'Shuttle','Letter','Credit']\n",
    "methods = ['brute','kd_tree', 'ball_tree', ]"
   ]
  },
  {
   "cell_type": "code",
   "execution_count": 5,
   "metadata": {},
   "outputs": [
    {
     "name": "stdout",
     "output_type": "stream",
     "text": [
      "brute\n",
      "HTRU\n",
      "2.5029959678649902\n",
      "Shuttle\n",
      "8.901127099990845\n",
      "Letter\n",
      "2.597942352294922\n",
      "Credit\n",
      "4.331996440887451\n",
      "kd_tree\n",
      "HTRU\n",
      "2.2430036067962646\n",
      "Shuttle\n",
      "21.792998552322388\n",
      "Letter\n",
      "16.56100058555603\n",
      "Credit\n",
      "59.26213502883911\n",
      "ball_tree\n",
      "HTRU\n",
      "3.4298641681671143\n",
      "Shuttle\n",
      "38.629008531570435\n",
      "Letter\n",
      "16.671123504638672\n",
      "Credit\n",
      "64.29499506950378\n"
     ]
    }
   ],
   "source": [
    "md10 = {}\n",
    "for m in methods:\n",
    "    print(m)\n",
    "    rd = {}\n",
    "    for ds in Name_arr:\n",
    "        print(ds)\n",
    "        X = X_dir[ds]\n",
    "        y = y_dir[ds]\n",
    "        kNN = KNeighborsClassifier(n_neighbors=50, algorithm = m)\n",
    "        t_start = time.time()\n",
    "        scores = cross_val_score(kNN, X, y, cv=10)\n",
    "        t = time.time()-t_start\n",
    "        rd[ds]=t\n",
    "        print(t)\n",
    "    md10[m]=rd"
   ]
  },
  {
   "cell_type": "code",
   "execution_count": 6,
   "metadata": {},
   "outputs": [
    {
     "name": "stdout",
     "output_type": "stream",
     "text": [
      "brute\n",
      "HTRU\n",
      "1.3170111179351807\n",
      "Shuttle\n",
      "4.927009344100952\n",
      "Letter\n",
      "1.8975834846496582\n",
      "Credit\n",
      "3.031163215637207\n",
      "kd_tree\n",
      "HTRU\n",
      "1.457937240600586\n",
      "Shuttle\n",
      "15.629929542541504\n",
      "Letter\n",
      "6.925124406814575\n",
      "Credit\n",
      "25.957010984420776\n",
      "ball_tree\n",
      "HTRU\n",
      "2.619971990585327\n",
      "Shuttle\n",
      "19.665000677108765\n",
      "Letter\n",
      "9.018046379089355\n",
      "Credit\n",
      "30.60995316505432\n"
     ]
    }
   ],
   "source": [
    "md2 = {}\n",
    "for m in methods:\n",
    "    print(m)\n",
    "    rd = {}\n",
    "    for ds in Name_arr:\n",
    "        print(ds)\n",
    "        X = X_dir[ds]\n",
    "        y = y_dir[ds]\n",
    "        kNN = KNeighborsClassifier(n_neighbors=50, algorithm = m)\n",
    "        t_start = time.time()\n",
    "        scores = cross_val_score(kNN, X, y, cv=2)\n",
    "        t = time.time()-t_start\n",
    "        rd[ds]=t\n",
    "        print(t)\n",
    "    md2[m]=rd"
   ]
  },
  {
   "cell_type": "code",
   "execution_count": 7,
   "metadata": {},
   "outputs": [
    {
     "data": {
      "text/html": [
       "<div>\n",
       "<style scoped>\n",
       "    .dataframe tbody tr th:only-of-type {\n",
       "        vertical-align: middle;\n",
       "    }\n",
       "\n",
       "    .dataframe tbody tr th {\n",
       "        vertical-align: top;\n",
       "    }\n",
       "\n",
       "    .dataframe thead th {\n",
       "        text-align: right;\n",
       "    }\n",
       "</style>\n",
       "<table border=\"1\" class=\"dataframe\">\n",
       "  <thead>\n",
       "    <tr style=\"text-align: right;\">\n",
       "      <th></th>\n",
       "      <th>brute</th>\n",
       "      <th>kd_tree</th>\n",
       "      <th>ball_tree</th>\n",
       "    </tr>\n",
       "  </thead>\n",
       "  <tbody>\n",
       "    <tr>\n",
       "      <th>HTRU</th>\n",
       "      <td>2.502996</td>\n",
       "      <td>2.243004</td>\n",
       "      <td>3.429864</td>\n",
       "    </tr>\n",
       "    <tr>\n",
       "      <th>Shuttle</th>\n",
       "      <td>8.901127</td>\n",
       "      <td>21.792999</td>\n",
       "      <td>38.629009</td>\n",
       "    </tr>\n",
       "    <tr>\n",
       "      <th>Letter</th>\n",
       "      <td>2.597942</td>\n",
       "      <td>16.561001</td>\n",
       "      <td>16.671124</td>\n",
       "    </tr>\n",
       "    <tr>\n",
       "      <th>Credit</th>\n",
       "      <td>4.331996</td>\n",
       "      <td>59.262135</td>\n",
       "      <td>64.294995</td>\n",
       "    </tr>\n",
       "  </tbody>\n",
       "</table>\n",
       "</div>"
      ],
      "text/plain": [
       "            brute    kd_tree  ball_tree\n",
       "HTRU     2.502996   2.243004   3.429864\n",
       "Shuttle  8.901127  21.792999  38.629009\n",
       "Letter   2.597942  16.561001  16.671124\n",
       "Credit   4.331996  59.262135  64.294995"
      ]
     },
     "execution_count": 7,
     "metadata": {},
     "output_type": "execute_result"
    }
   ],
   "source": [
    "xv2res = pd.DataFrame(md2)\n",
    "xv10res = pd.DataFrame(md10)\n",
    "xv10res"
   ]
  },
  {
   "cell_type": "code",
   "execution_count": 8,
   "metadata": {},
   "outputs": [
    {
     "data": {
      "text/html": [
       "<div>\n",
       "<style scoped>\n",
       "    .dataframe tbody tr th:only-of-type {\n",
       "        vertical-align: middle;\n",
       "    }\n",
       "\n",
       "    .dataframe tbody tr th {\n",
       "        vertical-align: top;\n",
       "    }\n",
       "\n",
       "    .dataframe thead th {\n",
       "        text-align: right;\n",
       "    }\n",
       "</style>\n",
       "<table border=\"1\" class=\"dataframe\">\n",
       "  <thead>\n",
       "    <tr style=\"text-align: right;\">\n",
       "      <th></th>\n",
       "      <th>brute</th>\n",
       "      <th>kd_tree</th>\n",
       "      <th>ball_tree</th>\n",
       "    </tr>\n",
       "  </thead>\n",
       "  <tbody>\n",
       "    <tr>\n",
       "      <th>HTRU</th>\n",
       "      <td>1.0</td>\n",
       "      <td>0.896128</td>\n",
       "      <td>1.370304</td>\n",
       "    </tr>\n",
       "    <tr>\n",
       "      <th>Shuttle</th>\n",
       "      <td>1.0</td>\n",
       "      <td>2.448341</td>\n",
       "      <td>4.339788</td>\n",
       "    </tr>\n",
       "    <tr>\n",
       "      <th>Letter</th>\n",
       "      <td>1.0</td>\n",
       "      <td>6.374661</td>\n",
       "      <td>6.417049</td>\n",
       "    </tr>\n",
       "    <tr>\n",
       "      <th>Credit</th>\n",
       "      <td>1.0</td>\n",
       "      <td>13.680098</td>\n",
       "      <td>14.841885</td>\n",
       "    </tr>\n",
       "  </tbody>\n",
       "</table>\n",
       "</div>"
      ],
      "text/plain": [
       "         brute    kd_tree  ball_tree\n",
       "HTRU       1.0   0.896128   1.370304\n",
       "Shuttle    1.0   2.448341   4.339788\n",
       "Letter     1.0   6.374661   6.417049\n",
       "Credit     1.0  13.680098  14.841885"
      ]
     },
     "execution_count": 8,
     "metadata": {},
     "output_type": "execute_result"
    }
   ],
   "source": [
    "a = xv2res.values\n",
    "xv2res.iloc[:,0:3] = a[:,0:3]/a[:,0,None]\n",
    "a = xv10res.values\n",
    "xv10res.iloc[:,0:3] = a[:,0:3]/a[:,0,None]\n",
    "xv10res"
   ]
  },
  {
   "cell_type": "code",
   "execution_count": 9,
   "metadata": {},
   "outputs": [],
   "source": [
    "xv2res = xv2res.sort_values('ball_tree')\n",
    "xv10res = xv10res.sort_values('ball_tree')"
   ]
  },
  {
   "cell_type": "code",
   "execution_count": 10,
   "metadata": {},
   "outputs": [
    {
     "data": {
      "image/png": "[encoded data removed]",
      "text/plain": [
       "<Figure size 432x288 with 1 Axes>"
      ]
     },
     "metadata": {
      "needs_background": "light"
     },
     "output_type": "display_data"
    }
   ],
   "source": [
    "ax = xv2res.T.plot(kind ='bar')\n",
    "ax.set_ylabel(\"Processing Time\")\n",
    "ax.set_title(\"Processing Time 2-fold x-val\")\n",
    "ax.set_ylim(0,3.5)\n",
    "ax.grid('on', which='major', axis='y')"
   ]
  },
  {
   "cell_type": "code",
   "execution_count": 11,
   "metadata": {},
   "outputs": [
    {
     "data": {
      "image/png": "[encoded data removed]",
      "text/plain": [
       "<Figure size 432x288 with 1 Axes>"
      ]
     },
     "metadata": {
      "needs_background": "light"
     },
     "output_type": "display_data"
    }
   ],
   "source": [
    "ax = xv10res.T.plot(kind ='bar')\n",
    "ax.set_ylabel(\"Processing Time\")\n",
    "ax.set_title(\"Processing Time 10-fold x-val\")\n",
    "ax.set_ylim(0,3.5)\n",
    "ax.grid('on', which='major', axis='y')"
   ]
  }
 ],
 "metadata": {
  "kernelspec": {
   "display_name": "Python 3.9.5 64-bit",
   "language": "python",
   "name": "python3"
  },
  "language_info": {
   "codemirror_mode": {
    "name": "ipython",
    "version": 3
   },
   "file_extension": ".py",
   "mimetype": "text/x-python",
   "name": "python",
   "nbconvert_exporter": "python",
   "pygments_lexer": "ipython3",
   "version": "3.9.5"
  },
  "vscode": {
   "interpreter": {
    "hash": "a78571ed19e2ba282193a0f3666e7aa244aea833586e7a6bc1ecde198322abd0"
   }
  }
 },
 "nbformat": 4,
 "nbformat_minor": 2
}

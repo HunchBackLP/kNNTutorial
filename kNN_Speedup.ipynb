{
 "cells": [
  {
   "cell_type": "markdown",
   "metadata": {},
   "source": [
    "# *k*-NN Speedup in `scikit-learn`\n",
    "`scikit-learn` contains two options to speed up neighbour retrieval for *k*-NN, `kd_tree` and `ball_tree`.  \n",
    "There is also the option to use brute force search, i.e. linear search across all training data.  \n",
    "Here we test the performance of these three options on four datasets from the UCI repository.  \n",
    "The three methods return the same nearest neighbours so we only look at retrieval times.  \n",
    "\n",
    "To run this notebook you will need to download the three data files and and .py file that loads the data:  \n",
    "- `kNNDataLoader.py`\n",
    "- `CC_default.csv`\n",
    "- `HTRU_2.csv`\n",
    "- `shuttle.csv`\n",
    "- `letter-recognition.csv`  \n",
    "\n",
    "These are all available in the git-hub repositiory. \n",
    "\n",
    "We test retrieval times under two scenarios, 10-fold cross validation and 2-fold cross validation.  \n",
    "The two speed up alternatives have a preprocessing overhead where the trees are built, this overhead will have a bigger impact in 10-fold cross vaildation testing. "
   ]
  },
  {
   "cell_type": "code",
   "execution_count": 8,
   "metadata": {
    "scrolled": true
   },
   "outputs": [],
   "source": [
    "import pandas as pd\n",
    "import numpy as np\n",
    "from sklearn import preprocessing\n",
    "from sklearn.neighbors import KNeighborsClassifier\n",
    "from sklearn.model_selection import train_test_split\n",
    "from sklearn.model_selection import cross_val_score\n",
    "import time\n",
    "import statistics\n",
    "from sklearn import metrics\n",
    "import kNNDataLoader\n",
    "import matplotlib.pyplot as plt"
   ]
  },
  {
   "cell_type": "code",
   "execution_count": 9,
   "metadata": {},
   "outputs": [
    {
     "data": {
      "text/plain": [
       "['Credit', 'HTRU', 'Shuttle', 'Letter']"
      ]
     },
     "execution_count": 9,
     "metadata": {},
     "output_type": "execute_result"
    }
   ],
   "source": [
    "Name_arr, X_dir, y_dir = kNNDataLoader.data_loader()\n",
    "Name_arr"
   ]
  },
  {
   "cell_type": "markdown",
   "metadata": {},
   "source": [
    "## Analysis\n",
    "Note: the evaluations entail cross-validation testing so those cells take a few minutes to run."
   ]
  },
  {
   "cell_type": "code",
   "execution_count": 24,
   "metadata": {},
   "outputs": [],
   "source": [
    "# Listing the datasets in this order produces nicer graphs. \n",
    "Name_arr = ['HTRU', 'Shuttle','Letter','Credit']\n",
    "methods = ['brute','kd_tree', 'ball_tree', ]"
   ]
  },
  {
   "cell_type": "code",
   "execution_count": 12,
   "metadata": {},
   "outputs": [
    {
     "name": "stdout",
     "output_type": "stream",
     "text": [
      "brute\n",
      "HTRU\n",
      "9.8279869556427\n",
      "Shuttle\n",
      "65.85435700416565\n",
      "Letter\n",
      "12.838612079620361\n",
      "Credit\n",
      "22.4635808467865\n",
      "kd_tree\n",
      "HTRU\n",
      "1.6481080055236816\n",
      "Shuttle\n",
      "34.7813458442688\n",
      "Letter\n",
      "14.130177021026611\n",
      "Credit\n",
      "66.75102376937866\n",
      "ball_tree\n",
      "HTRU\n",
      "3.3973119258880615\n",
      "Shuttle\n",
      "52.797674894332886\n",
      "Letter\n",
      "19.528882026672363\n",
      "Credit\n",
      "70.35366916656494\n"
     ]
    }
   ],
   "source": [
    "md10 = {}\n",
    "for m in methods:\n",
    "    print(m)\n",
    "    rd = {}\n",
    "    for ds in Name_arr:\n",
    "        print(ds)\n",
    "        X = X_dir[ds]\n",
    "        y = y_dir[ds]\n",
    "        kNN = KNeighborsClassifier(n_neighbors=50, algorithm = m)\n",
    "        t_start = time.time()\n",
    "        scores = cross_val_score(kNN, X, y, cv=10)\n",
    "        t = time.time()-t_start\n",
    "        rd[ds]=t\n",
    "        print(t)\n",
    "    md10[m]=rd"
   ]
  },
  {
   "cell_type": "code",
   "execution_count": 13,
   "metadata": {},
   "outputs": [
    {
     "name": "stdout",
     "output_type": "stream",
     "text": [
      "brute\n",
      "HTRU\n",
      "4.648926019668579\n",
      "Shuttle\n",
      "33.069029808044434\n",
      "Letter\n",
      "6.3040478229522705\n",
      "Credit\n",
      "13.257880926132202\n",
      "kd_tree\n",
      "HTRU\n",
      "1.6314280033111572\n",
      "Shuttle\n",
      "11.849361181259155\n",
      "Letter\n",
      "7.035146951675415\n",
      "Credit\n",
      "29.729572057724\n",
      "ball_tree\n",
      "HTRU\n",
      "2.0143632888793945\n",
      "Shuttle\n",
      "13.227242946624756\n",
      "Letter\n",
      "5.585052967071533\n",
      "Credit\n",
      "17.484975814819336\n"
     ]
    }
   ],
   "source": [
    "md2 = {}\n",
    "for m in methods:\n",
    "    print(m)\n",
    "    rd = {}\n",
    "    for ds in Name_arr:\n",
    "        print(ds)\n",
    "        X = X_dir[ds]\n",
    "        y = y_dir[ds]\n",
    "        kNN = KNeighborsClassifier(n_neighbors=50, algorithm = m)\n",
    "        t_start = time.time()\n",
    "        scores = cross_val_score(kNN, X, y, cv=2)\n",
    "        t = time.time()-t_start\n",
    "        rd[ds]=t\n",
    "        print(t)\n",
    "    md2[m]=rd"
   ]
  },
  {
   "cell_type": "code",
   "execution_count": 14,
   "metadata": {},
   "outputs": [
    {
     "data": {
      "text/html": [
       "<div>\n",
       "<style scoped>\n",
       "    .dataframe tbody tr th:only-of-type {\n",
       "        vertical-align: middle;\n",
       "    }\n",
       "\n",
       "    .dataframe tbody tr th {\n",
       "        vertical-align: top;\n",
       "    }\n",
       "\n",
       "    .dataframe thead th {\n",
       "        text-align: right;\n",
       "    }\n",
       "</style>\n",
       "<table border=\"1\" class=\"dataframe\">\n",
       "  <thead>\n",
       "    <tr style=\"text-align: right;\">\n",
       "      <th></th>\n",
       "      <th>brute</th>\n",
       "      <th>kd_tree</th>\n",
       "      <th>ball_tree</th>\n",
       "    </tr>\n",
       "  </thead>\n",
       "  <tbody>\n",
       "    <tr>\n",
       "      <th>HTRU</th>\n",
       "      <td>9.827987</td>\n",
       "      <td>1.648108</td>\n",
       "      <td>3.397312</td>\n",
       "    </tr>\n",
       "    <tr>\n",
       "      <th>Shuttle</th>\n",
       "      <td>65.854357</td>\n",
       "      <td>34.781346</td>\n",
       "      <td>52.797675</td>\n",
       "    </tr>\n",
       "    <tr>\n",
       "      <th>Letter</th>\n",
       "      <td>12.838612</td>\n",
       "      <td>14.130177</td>\n",
       "      <td>19.528882</td>\n",
       "    </tr>\n",
       "    <tr>\n",
       "      <th>Credit</th>\n",
       "      <td>22.463581</td>\n",
       "      <td>66.751024</td>\n",
       "      <td>70.353669</td>\n",
       "    </tr>\n",
       "  </tbody>\n",
       "</table>\n",
       "</div>"
      ],
      "text/plain": [
       "             brute    kd_tree  ball_tree\n",
       "HTRU      9.827987   1.648108   3.397312\n",
       "Shuttle  65.854357  34.781346  52.797675\n",
       "Letter   12.838612  14.130177  19.528882\n",
       "Credit   22.463581  66.751024  70.353669"
      ]
     },
     "execution_count": 14,
     "metadata": {},
     "output_type": "execute_result"
    }
   ],
   "source": [
    "xv2res = pd.DataFrame(md2)\n",
    "xv10res = pd.DataFrame(md10)\n",
    "xv10res"
   ]
  },
  {
   "cell_type": "code",
   "execution_count": 19,
   "metadata": {},
   "outputs": [
    {
     "data": {
      "text/html": [
       "<div>\n",
       "<style scoped>\n",
       "    .dataframe tbody tr th:only-of-type {\n",
       "        vertical-align: middle;\n",
       "    }\n",
       "\n",
       "    .dataframe tbody tr th {\n",
       "        vertical-align: top;\n",
       "    }\n",
       "\n",
       "    .dataframe thead th {\n",
       "        text-align: right;\n",
       "    }\n",
       "</style>\n",
       "<table border=\"1\" class=\"dataframe\">\n",
       "  <thead>\n",
       "    <tr style=\"text-align: right;\">\n",
       "      <th></th>\n",
       "      <th>brute</th>\n",
       "      <th>kd_tree</th>\n",
       "      <th>ball_tree</th>\n",
       "    </tr>\n",
       "  </thead>\n",
       "  <tbody>\n",
       "    <tr>\n",
       "      <th>HTRU</th>\n",
       "      <td>1.0</td>\n",
       "      <td>0.167695</td>\n",
       "      <td>0.345677</td>\n",
       "    </tr>\n",
       "    <tr>\n",
       "      <th>Letter</th>\n",
       "      <td>1.0</td>\n",
       "      <td>1.100600</td>\n",
       "      <td>1.521105</td>\n",
       "    </tr>\n",
       "    <tr>\n",
       "      <th>Shuttle</th>\n",
       "      <td>1.0</td>\n",
       "      <td>0.528156</td>\n",
       "      <td>0.801734</td>\n",
       "    </tr>\n",
       "    <tr>\n",
       "      <th>Credit</th>\n",
       "      <td>1.0</td>\n",
       "      <td>2.971522</td>\n",
       "      <td>3.131899</td>\n",
       "    </tr>\n",
       "  </tbody>\n",
       "</table>\n",
       "</div>"
      ],
      "text/plain": [
       "         brute   kd_tree  ball_tree\n",
       "HTRU       1.0  0.167695   0.345677\n",
       "Letter     1.0  1.100600   1.521105\n",
       "Shuttle    1.0  0.528156   0.801734\n",
       "Credit     1.0  2.971522   3.131899"
      ]
     },
     "execution_count": 19,
     "metadata": {},
     "output_type": "execute_result"
    }
   ],
   "source": [
    "a = xv2res.values\n",
    "xv2res.iloc[:,0:3] = a[:,0:3]/a[:,0,None]\n",
    "a = xv10res.values\n",
    "xv10res.iloc[:,0:3] = a[:,0:3]/a[:,0,None]\n",
    "xv10res"
   ]
  },
  {
   "cell_type": "code",
   "execution_count": 20,
   "metadata": {},
   "outputs": [],
   "source": [
    "xv2res = xv2res.sort_values('ball_tree')\n",
    "xv10res = xv10res.sort_values('ball_tree')"
   ]
  },
  {
   "cell_type": "code",
   "execution_count": 21,
   "metadata": {},
   "outputs": [
    {
     "data": {
      "image/png": "[encoded data removed]",
      "text/plain": [
       "<Figure size 432x288 with 1 Axes>"
      ]
     },
     "metadata": {
      "needs_background": "light"
     },
     "output_type": "display_data"
    }
   ],
   "source": [
    "ax = xv2res.T.plot(kind ='bar')\n",
    "ax.set_ylabel(\"Processing Time\")\n",
    "ax.set_title(\"Processing Time 2-fold x-val\")\n",
    "ax.set_ylim(0,3.5)\n",
    "ax.grid('on', which='major', axis='y')"
   ]
  },
  {
   "cell_type": "code",
   "execution_count": 22,
   "metadata": {},
   "outputs": [
    {
     "data": {
      "image/png": "[encoded data removed]",
      "text/plain": [
       "<Figure size 432x288 with 1 Axes>"
      ]
     },
     "metadata": {
      "needs_background": "light"
     },
     "output_type": "display_data"
    }
   ],
   "source": [
    "ax = xv10res.T.plot(kind ='bar')\n",
    "ax.set_ylabel(\"Processing Time\")\n",
    "ax.set_title(\"Processing Time 10-fold x-val\")\n",
    "ax.set_ylim(0,3.5)\n",
    "ax.grid('on', which='major', axis='y')"
   ]
  }
 ],
 "metadata": {
  "kernelspec": {
   "display_name": "Python 3",
   "language": "python",
   "name": "python3"
  },
  "language_info": {
   "codemirror_mode": {
    "name": "ipython",
    "version": 3
   },
   "file_extension": ".py",
   "mimetype": "text/x-python",
   "name": "python",
   "nbconvert_exporter": "python",
   "pygments_lexer": "ipython3",
   "version": "3.7.6"
  }
 },
 "nbformat": 4,
 "nbformat_minor": 2
}

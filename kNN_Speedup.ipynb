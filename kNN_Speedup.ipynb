{
 "cells": [
  {
   "cell_type": "markdown",
   "metadata": {},
   "source": [
    "# *k*-NN Speedup in `scikit-learn`\n",
    "`scikit-learn` contains two options to speed up neighbour retrieval for *k*-NN, `kd_tree` and `ball_tree`.  \n",
    "There is also the option to use brute force search, i.e. linear search across all training data.  \n",
    "Here we test the performance of these three options on four datasets from the UCI repository.  \n",
    "The three methods return the same nearest neighbours so we only look at retrieval times.  \n",
    "\n",
    "To run this notebook you will need to download the three data files and the `.py` file that loads the data:  \n",
    "- `kNNDataLoader.py`\n",
    "- `CC_default.csv`\n",
    "- `HTRU_2.csv`\n",
    "- `shuttle.csv`\n",
    "- `letter-recognition.csv`  \n",
    "\n",
    "These are all available in the git-hub repository. \n",
    "\n",
    "We test retrieval times under two scenarios, 10-fold cross validation and 2-fold cross validation.  \n",
    "The two speed up alternatives have a preprocessing overhead where the trees are built, this overhead will have a bigger impact in 10-fold cross vaildation testing. "
   ]
  },
  {
   "cell_type": "code",
   "execution_count": null,
   "metadata": {
    "scrolled": true
   },
   "outputs": [],
   "source": [
    "import pandas as pd\n",
    "import numpy as np\n",
    "from sklearn import preprocessing\n",
    "from sklearn.neighbors import KNeighborsClassifier\n",
    "from sklearn.model_selection import train_test_split\n",
    "from sklearn.model_selection import cross_val_score\n",
    "import time\n",
    "import statistics\n",
    "from sklearn import metrics\n",
    "import kNNDataLoader\n",
    "import matplotlib.pyplot as plt"
   ]
  },
  {
   "cell_type": "code",
   "execution_count": null,
   "metadata": {},
   "outputs": [],
   "source": [
    "Name_arr, X_dir, y_dir = kNNDataLoader.data_loader()\n",
    "Name_arr"
   ]
  },
  {
   "cell_type": "markdown",
   "metadata": {},
   "source": [
    "## Analysis\n",
    "Note: the evaluations entail cross-validation testing so those cells take a few minutes to run."
   ]
  },
  {
   "cell_type": "code",
   "execution_count": null,
   "metadata": {},
   "outputs": [],
   "source": [
    "# Listing the datasets in this order produces nicer graphs. \n",
    "Name_arr = ['HTRU', 'Shuttle','Letter','Credit']\n",
    "methods = ['brute','kd_tree', 'ball_tree', ]"
   ]
  },
  {
   "cell_type": "code",
   "execution_count": null,
   "metadata": {},
   "outputs": [],
   "source": [
    "md10 = {}\n",
    "for m in methods:\n",
    "    print(m)\n",
    "    rd = {}\n",
    "    for ds in Name_arr:\n",
    "        print(ds)\n",
    "        X = X_dir[ds]\n",
    "        y = y_dir[ds]\n",
    "        kNN = KNeighborsClassifier(n_neighbors=50, algorithm = m)\n",
    "        t_start = time.time()\n",
    "        scores = cross_val_score(kNN, X, y, cv=10)\n",
    "        t = time.time()-t_start\n",
    "        rd[ds]=t\n",
    "        print(t)\n",
    "    md10[m]=rd"
   ]
  },
  {
   "cell_type": "code",
   "execution_count": null,
   "metadata": {},
   "outputs": [],
   "source": [
    "md2 = {}\n",
    "for m in methods:\n",
    "    print(m)\n",
    "    rd = {}\n",
    "    for ds in Name_arr:\n",
    "        print(ds)\n",
    "        X = X_dir[ds]\n",
    "        y = y_dir[ds]\n",
    "        kNN = KNeighborsClassifier(n_neighbors=50, algorithm = m)\n",
    "        t_start = time.time()\n",
    "        scores = cross_val_score(kNN, X, y, cv=2)\n",
    "        t = time.time()-t_start\n",
    "        rd[ds]=t\n",
    "        print(t)\n",
    "    md2[m]=rd"
   ]
  },
  {
   "cell_type": "code",
   "execution_count": null,
   "metadata": {},
   "outputs": [],
   "source": [
    "xv2res = pd.DataFrame(md2)\n",
    "xv10res = pd.DataFrame(md10)\n",
    "xv10res"
   ]
  },
  {
   "cell_type": "code",
   "execution_count": null,
   "metadata": {},
   "outputs": [],
   "source": [
    "a = xv2res.values\n",
    "xv2res.iloc[:,0:3] = a[:,0:3]/a[:,0,None]\n",
    "a = xv10res.values\n",
    "xv10res.iloc[:,0:3] = a[:,0:3]/a[:,0,None]\n",
    "xv10res"
   ]
  },
  {
   "cell_type": "code",
   "execution_count": null,
   "metadata": {},
   "outputs": [],
   "source": [
    "xv2res = xv2res.sort_values('ball_tree')\n",
    "xv10res = xv10res.sort_values('ball_tree')"
   ]
  },
  {
   "cell_type": "code",
   "execution_count": null,
   "metadata": {},
   "outputs": [],
   "source": [
    "ax = xv2res.T.plot(kind ='bar')\n",
    "ax.set_ylabel(\"Processing Time\")\n",
    "ax.set_title(\"Processing Time 2-fold x-val\")\n",
    "ax.set_ylim(0,3.5)\n",
    "ax.grid('on', which='major', axis='y')"
   ]
  },
  {
   "cell_type": "code",
   "execution_count": null,
   "metadata": {},
   "outputs": [],
   "source": [
    "ax = xv10res.T.plot(kind ='bar')\n",
    "ax.set_ylabel(\"Processing Time\")\n",
    "ax.set_title(\"Processing Time 10-fold x-val\")\n",
    "ax.set_ylim(0,3.5)\n",
    "ax.grid('on', which='major', axis='y')"
   ]
  }
 ],
 "metadata": {
  "kernelspec": {
   "display_name": "Python 3",
   "language": "python",
   "name": "python3"
  },
  "language_info": {
   "codemirror_mode": {
    "name": "ipython",
    "version": 3
   },
   "file_extension": ".py",
   "mimetype": "text/x-python",
   "name": "python",
   "nbconvert_exporter": "python",
   "pygments_lexer": "ipython3",
   "version": "3.7.6"
  }
 },
 "nbformat": 4,
 "nbformat_minor": 2
}

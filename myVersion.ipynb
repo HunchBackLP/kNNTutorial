{
 "cells": [
  {
   "cell_type": "code",
   "execution_count": 20,
   "metadata": {},
   "outputs": [],
   "source": [
    "import pandas as pd\n",
    "import numpy as np\n",
    "from sklearn import preprocessing\n",
    "from sklearn.neighbors import KNeighborsClassifier\n",
    "from sklearn.model_selection import train_test_split\n",
    "from sklearn.model_selection import cross_val_score\n",
    "import time\n",
    "import statistics\n",
    "from sklearn import metrics\n",
    "import kNNDataLoader\n",
    "import matplotlib.pyplot as plt"
   ]
  },
  {
   "cell_type": "code",
   "execution_count": 21,
   "metadata": {},
   "outputs": [],
   "source": [
    "def create_random_data(n=10):\n",
    "    \"\"\"Create n random 2D Data points\"\"\"\n",
    "    data =  np.random.rand(n,2)\n",
    "    label = [1 if np.random.rand() > 0.5 else 0 for i in range(n)]\n",
    "    return data, label\n",
    "\n"
   ]
  },
  {
   "cell_type": "markdown",
   "metadata": {},
   "source": [
    "note: cross validation somewhat equals test train split i guess"
   ]
  },
  {
   "cell_type": "code",
   "execution_count": 36,
   "metadata": {},
   "outputs": [],
   "source": [
    "number_of_points = [100, 1000, 10000, 100000, 1000000]\n",
    "methods = ['brute', 'kd_tree', 'ball_tree']\n",
    "methods = ['kd_tree']\n",
    "number_of_points = [10000]"
   ]
  },
  {
   "cell_type": "code",
   "execution_count": 39,
   "metadata": {},
   "outputs": [
    {
     "name": "stdout",
     "output_type": "stream",
     "text": [
      "kd_tree\n",
      "10000\n"
     ]
    }
   ],
   "source": [
    "times_methods = {}\n",
    "for m in methods:\n",
    "    times = {}\n",
    "    print(m)\n",
    "    for n in number_of_points:\n",
    "        print(n)\n",
    "        kNN = KNeighborsClassifier(n_neighbors=20, algorithm=m)\n",
    "        X, y = create_random_data(n=n)\n",
    "        start_time = time.time()\n",
    "        scores = cross_val_score(kNN, X, y, cv=10)\n",
    "        t = time.time() - start_time\n",
    "        times[n] = t\n",
    "    times_methods[m] = times\n",
    "\n"
   ]
  },
  {
   "cell_type": "code",
   "execution_count": 34,
   "metadata": {},
   "outputs": [
    {
     "data": {
      "text/plain": [
       "[0.16102862358093262,\n",
       " 0.10199952125549316,\n",
       " 0.7940034866333008,\n",
       " 26.772995233535767,\n",
       " 2303.2000319957733]"
      ]
     },
     "execution_count": 34,
     "metadata": {},
     "output_type": "execute_result"
    }
   ],
   "source": [
    "list(times_methods['brute'].values())\n",
    "# 2303 / 60"
   ]
  }
 ],
 "metadata": {
  "kernelspec": {
   "display_name": "Python 3.9.5 64-bit",
   "language": "python",
   "name": "python3"
  },
  "language_info": {
   "codemirror_mode": {
    "name": "ipython",
    "version": 3
   },
   "file_extension": ".py",
   "mimetype": "text/x-python",
   "name": "python",
   "nbconvert_exporter": "python",
   "pygments_lexer": "ipython3",
   "version": "3.9.5"
  },
  "orig_nbformat": 4,
  "vscode": {
   "interpreter": {
    "hash": "a78571ed19e2ba282193a0f3666e7aa244aea833586e7a6bc1ecde198322abd0"
   }
  }
 },
 "nbformat": 4,
 "nbformat_minor": 2
}
